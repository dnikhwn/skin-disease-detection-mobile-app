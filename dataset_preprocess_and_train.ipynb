{
 "cells": [
  {
   "cell_type": "markdown",
   "id": "57de3e7b",
   "metadata": {},
   "source": [
    "# Skin Disease Detection using Mobile Application\n",
    "## Final Year Project 2\n",
    "Ahmad Daniel Ikhwan Bin Rosli <br>\n",
    "1201103071"
   ]
  },
  {
   "cell_type": "markdown",
   "id": "87dd74c1",
   "metadata": {},
   "source": [
    "### Dataset Preprocessing and Model Trainning \n",
    "\n",
    "In this notebook we wil preprocess our final_dataset. Then we will use the preprocessed final_dataset to train and compare three lightweight deep learing architectures:\n",
    "- MobileNet\n",
    "- MobileNetV2\n",
    "- MobileNetV3"
   ]
  },
  {
   "cell_type": "code",
   "execution_count": 1,
   "id": "6a2ca911",
   "metadata": {},
   "outputs": [],
   "source": [
    "import tensorflow as tf\n",
    "import matplotlib.pyplot as plt\n",
    "import numpy as np\n",
    "from pathlib import Path\n",
    "from sklearn.metrics import classification_report, confusion_matrix\n",
    "import seaborn as sns"
   ]
  },
  {
   "cell_type": "markdown",
   "id": "170ce35c",
   "metadata": {},
   "source": [
    "### Preprocessing"
   ]
  },
  {
   "cell_type": "code",
   "execution_count": 2,
   "id": "22c098e4",
   "metadata": {},
   "outputs": [],
   "source": [
    "final_dataset_path = Path(\"datasets/final_dataset\")\n",
    "img_size = (224, 224)\n",
    "batch_size = 32"
   ]
  },
  {
   "cell_type": "code",
   "execution_count": 3,
   "id": "d4f6cec7",
   "metadata": {},
   "outputs": [
    {
     "name": "stdout",
     "output_type": "stream",
     "text": [
      "Found 6094 files belonging to 10 classes.\n",
      "Found 758 files belonging to 10 classes.\n",
      "Found 770 files belonging to 10 classes.\n"
     ]
    }
   ],
   "source": [
    "# load final_datasets\n",
    "train_ds = tf.keras.utils.image_dataset_from_directory(\n",
    "    final_dataset_path / \"train\", label_mode=\"categorical\", batch_size=batch_size, shuffle=True, seed=42\n",
    ")\n",
    "val_ds = tf.keras.utils.image_dataset_from_directory(\n",
    "    final_dataset_path / \"val\", label_mode=\"categorical\", batch_size=batch_size, shuffle=False\n",
    ")\n",
    "test_ds = tf.keras.utils.image_dataset_from_directory(\n",
    "    final_dataset_path / \"test\", label_mode=\"categorical\", batch_size=batch_size, shuffle=False\n",
    ")"
   ]
  },
  {
   "cell_type": "code",
   "execution_count": 4,
   "id": "abb4a7b9",
   "metadata": {},
   "outputs": [],
   "source": [
    "# resize with padding\n",
    "def resize_with_padding(image, label):\n",
    "    image = tf.image.resize_with_pad(image, 224, 224)\n",
    "    image = tf.cast(image, tf.float32) / 255.0\n",
    "    return image, label\n",
    "\n",
    "AUTOTUNE = tf.data.AUTOTUNE\n",
    "\n",
    "train_ds = train_ds.map(resize_with_padding).cache().prefetch(buffer_size=AUTOTUNE)\n",
    "val_ds = val_ds.map(resize_with_padding).cache().prefetch(buffer_size=AUTOTUNE)\n",
    "test_ds = test_ds.map(resize_with_padding).cache().prefetch(buffer_size=AUTOTUNE)"
   ]
  },
  {
   "cell_type": "markdown",
   "id": "3ab6f607",
   "metadata": {},
   "source": [
    "### Train Model"
   ]
  },
  {
   "cell_type": "code",
   "execution_count": null,
   "id": "cc20877b",
   "metadata": {},
   "outputs": [],
   "source": []
  }
 ],
 "metadata": {
  "kernelspec": {
   "display_name": "FYP",
   "language": "python",
   "name": "python3"
  },
  "language_info": {
   "codemirror_mode": {
    "name": "ipython",
    "version": 3
   },
   "file_extension": ".py",
   "mimetype": "text/x-python",
   "name": "python",
   "nbconvert_exporter": "python",
   "pygments_lexer": "ipython3",
   "version": "3.10.16"
  }
 },
 "nbformat": 4,
 "nbformat_minor": 5
}
