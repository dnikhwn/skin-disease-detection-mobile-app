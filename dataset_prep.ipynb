{
 "cells": [
  {
   "cell_type": "markdown",
   "metadata": {},
   "source": [
    "# Skin Disease Detection using Mobile Application\n",
    "## Final Year Project 2\n",
    "Ahmad Daniel Ikhwan Bin Rosli <br>\n",
    "1201103071"
   ]
  },
  {
   "cell_type": "markdown",
   "metadata": {},
   "source": [
    "### Dataset Preparation\n",
    "\n",
    "This notebook prepares the downloaded skin disease datasets for training. We will prepare each dataset seperately and will combine all into one clean data."
   ]
  },
  {
   "cell_type": "code",
   "execution_count": 25,
   "metadata": {},
   "outputs": [],
   "source": [
    "import os\n",
    "import shutil\n",
    "from pathlib import Path\n",
    "from PIL import Image"
   ]
  },
  {
   "cell_type": "code",
   "execution_count": 26,
   "metadata": {},
   "outputs": [],
   "source": [
    "image_extensions = [\"*.jpg\", \"*.jpeg\", \"*.png\", \"*.JPG\", \"*.JPEG\", \"*.PNG\"]"
   ]
  },
  {
   "cell_type": "markdown",
   "metadata": {},
   "source": [
    "### Phase 1: Prepare `pacificrm` Dataset"
   ]
  },
  {
   "cell_type": "markdown",
   "metadata": {},
   "source": [
    "**Note:** \n",
    "Before running the cleanup code, the dataset folders were manually reorganized:\n",
    "- The `train` and `test` folders were moved directly under the `pacificrm` directory.\n",
    "- An extra nested `SkinDisease/SkinDisease/` directory was removed.\n",
    "- The `README.md` file and other unnecessary files were deleted to simplify the structure."
   ]
  },
  {
   "cell_type": "code",
   "execution_count": 27,
   "metadata": {},
   "outputs": [],
   "source": [
    "pacificrm_path = Path(\"datasets/pacificrm\")\n"
   ]
  },
  {
   "cell_type": "code",
   "execution_count": 28,
   "metadata": {},
   "outputs": [
    {
     "name": "stdout",
     "output_type": "stream",
     "text": [
      "Deleting datasets\\pacificrm\\train\\Actinic_Keratosis\n",
      "Deleting datasets\\pacificrm\\train\\Benign_tumors\n",
      "Deleting datasets\\pacificrm\\train\\Bullous\n",
      "Deleting datasets\\pacificrm\\train\\Candidiasis\n",
      "Deleting datasets\\pacificrm\\train\\DrugEruption\n",
      "Deleting datasets\\pacificrm\\train\\Infestations_Bites\n",
      "Deleting datasets\\pacificrm\\train\\Lichen\n",
      "Deleting datasets\\pacificrm\\train\\Lupus\n",
      "Deleting datasets\\pacificrm\\train\\Rosacea\n",
      "Deleting datasets\\pacificrm\\train\\SkinCancer\n",
      "Deleting datasets\\pacificrm\\train\\Sun_Sunlight_Damage\n",
      "Deleting datasets\\pacificrm\\train\\Vascular_Tumors\n",
      "Deleting datasets\\pacificrm\\train\\Vasculitis\n",
      "Deleting datasets\\pacificrm\\test\\Actinic_Keratosis\n",
      "Deleting datasets\\pacificrm\\test\\Benign_tumors\n",
      "Deleting datasets\\pacificrm\\test\\Bullous\n",
      "Deleting datasets\\pacificrm\\test\\Candidiasis\n",
      "Deleting datasets\\pacificrm\\test\\DrugEruption\n",
      "Deleting datasets\\pacificrm\\test\\Infestations_Bites\n",
      "Deleting datasets\\pacificrm\\test\\Lichen\n",
      "Deleting datasets\\pacificrm\\test\\Lupus\n",
      "Deleting datasets\\pacificrm\\test\\Rosacea\n",
      "Deleting datasets\\pacificrm\\test\\SkinCancer\n",
      "Deleting datasets\\pacificrm\\test\\Sun_Sunlight_Damage\n",
      "Deleting datasets\\pacificrm\\test\\Vascular_Tumors\n",
      "Deleting datasets\\pacificrm\\test\\Vasculitis\n"
     ]
    }
   ],
   "source": [
    "# Exclude non target diseases\n",
    "target_classes = [\n",
    "    \"Acne\", \"Eczema\", \"Tinea\", \"Vitiligo\", \"Psoriasis\", \"Warts\", \"Seborrh_Keratoses\", \"Moles\",\"Unknown_Normal\"\n",
    "]\n",
    "\n",
    "for split in ['train', 'test']:\n",
    "    folder = pacificrm_path / split\n",
    "    for sub in folder.iterdir():\n",
    "        if sub.is_dir() and sub.name not in target_classes:\n",
    "            print(f\"Deleting {sub}\")\n",
    "            shutil.rmtree(sub)"
   ]
  },
  {
   "cell_type": "code",
   "execution_count": 29,
   "metadata": {},
   "outputs": [],
   "source": [
    "# Check and delete non-image\n",
    "for path in pacificrm_path.rglob(\"*\"):\n",
    "    if path.is_file() and path.suffix.lower() not in [\".jpg\", \".jpeg\", \".png\"]:\n",
    "        print(f\"Deleting {path}\")\n",
    "        path.unlink()\n"
   ]
  },
  {
   "cell_type": "code",
   "execution_count": 30,
   "metadata": {},
   "outputs": [
    {
     "name": "stdout",
     "output_type": "stream",
     "text": [
      "0 corrupted images removed.\n"
     ]
    }
   ],
   "source": [
    "# Check and delete corrupted images\n",
    "corrupted = []\n",
    "\n",
    "for ext in image_extensions:\n",
    "    for img_path in pacificrm_path.rglob(ext):\n",
    "        try:\n",
    "            with Image.open(img_path) as img:\n",
    "                img.verify()\n",
    "        except Exception as e:\n",
    "            print(f\"Corrupted: {img_path} ({e})\")\n",
    "            corrupted.append(img_path)\n",
    "\n",
    "for c in corrupted:\n",
    "    c.unlink()\n",
    "\n",
    "print(f\"{len(corrupted)} corrupted images removed.\")\n"
   ]
  },
  {
   "cell_type": "markdown",
   "metadata": {},
   "source": [
    "**Note:** \n",
    "Additional Cleanup\n",
    "- Renamed the folder **`Unknown_Normal`** to **`Normal`** in both `train` and `test` directories for consistency.\n",
    "- Manually reviewed and **deleted non-skin images**, including:\n",
    "  - Irrelevant content (e.g., clothing, backgrounds, non-human skin).\n",
    "  - **Blurry or low-quality images** that may affect model performance."
   ]
  },
  {
   "cell_type": "code",
   "execution_count": 32,
   "metadata": {},
   "outputs": [
    {
     "name": "stdout",
     "output_type": "stream",
     "text": [
      "Combined pacificrm dataset is ready.\n"
     ]
    }
   ],
   "source": [
    "# Combined both the train and test to prepare for resplitting later on\n",
    "combined_path = Path(\"datasets/pacificrm_combined\")\n",
    "combined_path.mkdir(exist_ok=True)\n",
    "\n",
    "splits = [\"train\", \"test\"]\n",
    "\n",
    "for split in splits:\n",
    "    for class_folder in (pacificrm_path / split).iterdir():\n",
    "        if class_folder.is_dir():\n",
    "            dest_class_folder = combined_path / class_folder.name\n",
    "            dest_class_folder.mkdir(parents=True, exist_ok=True)\n",
    "\n",
    "            for ext in image_extensions:\n",
    "                for img_file in class_folder.glob(ext):\n",
    "                    shutil.copy(img_file, dest_class_folder / img_file.name)\n",
    "\n",
    "print(\"Combined pacificrm dataset is ready.\")\n"
   ]
  },
  {
   "cell_type": "code",
   "execution_count": 33,
   "metadata": {},
   "outputs": [
    {
     "name": "stdout",
     "output_type": "stream",
     "text": [
      "Acne: 1316 images\n",
      "Eczema: 2244 images\n",
      "Moles: 802 images\n",
      "Normal: 900 images\n",
      "Psoriasis: 1816 images\n",
      "Seborrh_Keratoses: 1012 images\n",
      "Tinea: 2050 images\n",
      "Vitiligo: 1590 images\n",
      "Warts: 1288 images\n"
     ]
    }
   ],
   "source": [
    "# Count how many images in each skin disease\n",
    "pacificrm_combined_path = Path(\"datasets/pacificrm_combined\")\n",
    "\n",
    "for class_folder in pacificrm_combined_path.iterdir():\n",
    "    if class_folder.is_dir():\n",
    "        count = 0\n",
    "        for ext in image_extensions:\n",
    "            count += len(list(class_folder.glob(ext)))\n",
    "        print(f\"{class_folder.name}: {count} images\")"
   ]
  },
  {
   "cell_type": "markdown",
   "metadata": {},
   "source": [
    "### Phase 2: Prepare `ham10000` Dataset"
   ]
  },
  {
   "cell_type": "code",
   "execution_count": null,
   "metadata": {},
   "outputs": [],
   "source": [
    "# combine ham10000 image files\n",
    "part1_path = Path(\"datasets/ham10000/HAM10000_images_part_1\")\n",
    "part2_path = Path(\"datasets/ham10000/HAM10000_images_part_2\")\n",
    "combined_path = Path(\"datasets/ham10000_combined\")\n",
    "combined_path.mkdir(parents=True, exist_ok=True)\n",
    "\n",
    "for part in [part1_path, part2_path]:\n",
    "    for img_file in part.glob(\"*.jpg\"):\n",
    "        shutil.copy(img_file, combined_path / img_file.name)\n",
    "\n",
    "print(\"ham10000 images combined into:\", combined_path)"
   ]
  }
 ],
 "metadata": {
  "kernelspec": {
   "display_name": "FYP",
   "language": "python",
   "name": "python3"
  },
  "language_info": {
   "codemirror_mode": {
    "name": "ipython",
    "version": 3
   },
   "file_extension": ".py",
   "mimetype": "text/x-python",
   "name": "python",
   "nbconvert_exporter": "python",
   "pygments_lexer": "ipython3",
   "version": "3.10.16"
  }
 },
 "nbformat": 4,
 "nbformat_minor": 2
}
