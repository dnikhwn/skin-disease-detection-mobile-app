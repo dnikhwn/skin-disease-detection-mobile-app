{
 "cells": [
  {
   "cell_type": "markdown",
   "metadata": {},
   "source": [
    "# Skin Disease Detection using Mobile Application\n",
    "## Final Year Project 2\n",
    "Ahmad Daniel Ikhwan Bin Rosli <br>\n",
    "1201103071"
   ]
  },
  {
   "cell_type": "markdown",
   "metadata": {},
   "source": [
    "### Dataset Preparation\n",
    "\n",
    "This notebook prepares the downloaded skin disease datasets for training. We will prepare each dataset seperately and will combine all into one clean data."
   ]
  },
  {
   "cell_type": "code",
   "execution_count": 2,
   "metadata": {},
   "outputs": [],
   "source": [
    "import os\n",
    "import shutil\n",
    "from pathlib import Path\n",
    "from PIL import Image"
   ]
  },
  {
   "cell_type": "markdown",
   "metadata": {},
   "source": [
    "### Phase 1: Prepare `pacificrm` Dataset"
   ]
  },
  {
   "cell_type": "markdown",
   "metadata": {},
   "source": [
    "**Note:** \n",
    "Before running the cleanup code, the dataset folders were manually reorganized:\n",
    "- The `train` and `test` folders were moved directly under the `pacificrm` directory.\n",
    "- An extra nested `SkinDisease/SkinDisease/` directory was removed.\n",
    "- The `README.md` file and other unnecessary files were deleted to simplify the structure."
   ]
  },
  {
   "cell_type": "code",
   "execution_count": 15,
   "metadata": {},
   "outputs": [],
   "source": [
    "pacificrm_path = Path(\"datasets/pacificrm\")\n"
   ]
  },
  {
   "cell_type": "code",
   "execution_count": null,
   "metadata": {},
   "outputs": [],
   "source": [
    "# Exclude non target diseases\n",
    "target_classes = [\n",
    "    \"Acne\", \"Eczema\", \"Tinea\", \"Vitiligo\", \"Psoriasis\", \"Warts\", \"Seborrh_Keratoses\", \"Moles\",\"Unknown_Normal\"\n",
    "]\n",
    "\n",
    "for split in ['train', 'test']:\n",
    "    folder = pacificrm_path / split\n",
    "    for sub in folder.iterdir():\n",
    "        if sub.is_dir() and sub.name not in target_classes:\n",
    "            print(f\"Deleting {sub}\")\n",
    "            shutil.rmtree(sub)"
   ]
  },
  {
   "cell_type": "code",
   "execution_count": 18,
   "metadata": {},
   "outputs": [],
   "source": [
    "# Check and Delete non-image\n",
    "for path in pacificrm_path.rglob(\"*\"):\n",
    "    if path.is_file() and path.suffix.lower() not in [\".jpg\", \".jpeg\", \".png\"]:\n",
    "        print(f\"Deleting {path}\")\n",
    "        path.unlink()\n"
   ]
  },
  {
   "cell_type": "code",
   "execution_count": null,
   "metadata": {},
   "outputs": [],
   "source": [
    "# Check and Delete corrupted images\n",
    "corrupted = []\n",
    "\n",
    "for img_path in pacificrm_path.rglob(\"*.[jJ][pP][gG]\"):\n",
    "    try:\n",
    "        with Image.open(img_path) as img:\n",
    "            img.verify()\n",
    "    except Exception as e:\n",
    "        print(f\"Corrupted: {img_path} ({e})\")\n",
    "        corrupted.append(img_path)\n",
    "\n",
    "for c in corrupted:\n",
    "    c.unlink()\n"
   ]
  },
  {
   "cell_type": "code",
   "execution_count": 20,
   "metadata": {},
   "outputs": [
    {
     "name": "stdout",
     "output_type": "stream",
     "text": [
      "0 duplicate images removed.\n"
     ]
    }
   ],
   "source": [
    "# Check and Delete duplicate images\n",
    "seen = set()\n",
    "duplicates = []\n",
    "\n",
    "for img_path in pacificrm_path.rglob(\"*.[jJpP][pPnN][gG]\"):\n",
    "    filename = img_path.name\n",
    "    if filename in seen:\n",
    "        print(f\"Duplicate filename found: {filename} -> {img_path}\")\n",
    "        duplicates.append(img_path)\n",
    "    else:\n",
    "        seen.add(filename)\n",
    "\n",
    "for dup in duplicates:\n",
    "    dup.unlink()\n",
    "    print(f\"Deleted: {dup}\")\n",
    "\n",
    "print(f\"{len(duplicates)} duplicate images removed.\")"
   ]
  },
  {
   "cell_type": "markdown",
   "metadata": {},
   "source": [
    "**Note:** \n",
    "Additional Cleanup\n",
    "- Renamed the folder **`Unknown_Normal`** to **`Normal`** in both `train` and `test` directories for consistency.\n",
    "- Manually reviewed and **deleted non-skin images**, including:\n",
    "  - Irrelevant content (e.g., clothing, backgrounds, non-human skin).\n",
    "  - **Blurry or low-quality images** that may affect model performance."
   ]
  },
  {
   "cell_type": "code",
   "execution_count": 23,
   "metadata": {},
   "outputs": [
    {
     "name": "stdout",
     "output_type": "stream",
     "text": [
      "Combined pacificrm dataset is ready.\n"
     ]
    }
   ],
   "source": [
    "# Combined both the train and test to prepare for resplitting later on\n",
    "combined_path = Path(\"datasets/pacificrm_combined\")\n",
    "combined_path.mkdir(exist_ok=True)\n",
    "\n",
    "splits = [\"train\", \"test\"]\n",
    "image_extensions = [\"*.jpg\", \"*.jpeg\", \"*.png\", \"*.JPG\", \"*.JPEG\", \"*.PNG\"]\n",
    "\n",
    "for split in splits:\n",
    "    for class_folder in (pacificrm_path / split).iterdir():\n",
    "        if class_folder.is_dir():\n",
    "            dest_class_folder = combined_path / class_folder.name\n",
    "            dest_class_folder.mkdir(parents=True, exist_ok=True)\n",
    "\n",
    "            for ext in image_extensions:\n",
    "                for img_file in class_folder.glob(ext):\n",
    "                    shutil.copy(img_file, dest_class_folder / img_file.name)\n",
    "\n",
    "print(\"Combined pacificrm dataset is ready.\")\n"
   ]
  },
  {
   "cell_type": "code",
   "execution_count": null,
   "metadata": {},
   "outputs": [
    {
     "name": "stdout",
     "output_type": "stream",
     "text": [
      "Acne: 1316 images\n",
      "Eczema: 2244 images\n",
      "Moles: 802 images\n",
      "Normal: 900 images\n",
      "Psoriasis: 1816 images\n",
      "Seborrh_Keratoses: 1012 images\n",
      "Tinea: 2050 images\n",
      "Vitiligo: 1590 images\n",
      "Warts: 1288 images\n"
     ]
    }
   ],
   "source": [
    "# Count how many images in each skin disease\n",
    "pacificrm_combined_path = Path(\"datasets/pacificrm_combined\")\n",
    "\n",
    "for class_folder in pacificrm_combined_path.iterdir():\n",
    "    if class_folder.is_dir():\n",
    "        count = 0\n",
    "        for ext in [\"*.jpg\", \"*.jpeg\", \"*.png\", \"*.JPG\", \"*.JPEG\", \"*.PNG\"]:\n",
    "            count += len(list(class_folder.glob(ext)))\n",
    "        print(f\"{class_folder.name}: {count} images\")"
   ]
  },
  {
   "cell_type": "code",
   "execution_count": null,
   "metadata": {},
   "outputs": [],
   "source": []
  }
 ],
 "metadata": {
  "kernelspec": {
   "display_name": "FYP",
   "language": "python",
   "name": "python3"
  },
  "language_info": {
   "codemirror_mode": {
    "name": "ipython",
    "version": 3
   },
   "file_extension": ".py",
   "mimetype": "text/x-python",
   "name": "python",
   "nbconvert_exporter": "python",
   "pygments_lexer": "ipython3",
   "version": "3.10.16"
  }
 },
 "nbformat": 4,
 "nbformat_minor": 2
}
