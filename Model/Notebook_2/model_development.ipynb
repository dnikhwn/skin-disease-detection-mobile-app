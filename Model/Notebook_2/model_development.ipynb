{
 "cells": [
  {
   "cell_type": "markdown",
   "id": "893ca563",
   "metadata": {},
   "source": [
    "# Skin Disease Detection using Mobile Application\n",
    "## Final Year Project 2\n",
    "Ahmad Daniel Ikhwan Bin Rosli <br>\n",
    "1201103071"
   ]
  },
  {
   "cell_type": "markdown",
   "id": "8c41cd11",
   "metadata": {},
   "source": [
    "### Load dataset"
   ]
  },
  {
   "cell_type": "code",
   "execution_count": 2,
   "id": "4e045657",
   "metadata": {},
   "outputs": [],
   "source": [
    "import os\n",
    "import shutil\n",
    "from pathlib import Path\n",
    "import pandas as pd\n",
    "import numpy as np\n",
    "import seaborn as sns\n",
    "import matplotlib.pyplot as plt\n",
    "from sklearn.model_selection import train_test_split\n",
    "from sklearn.utils.class_weight import compute_class_weight\n",
    "from sklearn.metrics import classification_report, confusion_matrix\n",
    "from tensorflow.keras.preprocessing.image import ImageDataGenerator, img_to_array, load_img, array_to_img, save_img\n",
    "from tensorflow.keras.applications import MobileNet, MobileNetV2, MobileNetV3Small\n",
    "from tensorflow.keras.models import Model, load_model\n",
    "from tensorflow.keras.layers import Dense, GlobalAveragePooling2D\n",
    "from tensorflow.keras.optimizers import Adam\n",
    "from tensorflow.keras.callbacks import EarlyStopping\n",
    "from tensorflow.keras import backend as K\n"
   ]
  },
  {
   "cell_type": "code",
   "execution_count": null,
   "id": "ff23f914",
   "metadata": {},
   "outputs": [],
   "source": [
    "# kaggle.json path\n",
    "os.environ['PATH'] += os.pathsep + r'C:\\Users\\ADMIN\\AppData\\Roaming\\Microsoft\\Windows\\Recent\\kaggle.json.lnk'"
   ]
  },
  {
   "cell_type": "code",
   "execution_count": null,
   "id": "5bd9ed03",
   "metadata": {},
   "outputs": [
    {
     "name": "stdout",
     "output_type": "stream",
     "text": [
      "Dataset URL: https://www.kaggle.com/datasets/surajghuwalewala/ham1000-segmentation-and-classification"
     ]
    },
    {
     "name": "stderr",
     "output_type": "stream",
     "text": [
      "\n",
      "  0%|          | 0.00/2.59G [00:00<?, ?B/s]\n",
      "  3%|▎         | 70.0M/2.59G [00:00<00:03, 691MB/s]\n",
      "  6%|▌         | 152M/2.59G [00:00<00:03, 757MB/s] \n",
      "  8%|▊         | 225M/2.59G [00:00<00:04, 631MB/s]\n",
      " 11%|█         | 288M/2.59G [00:00<00:03, 640MB/s]\n",
      " 13%|█▎        | 351M/2.59G [00:00<00:04, 547MB/s]\n",
      " 16%|█▌        | 422M/2.59G [00:00<00:03, 597MB/s]\n",
      " 18%|█▊        | 482M/2.59G [00:00<00:03, 573MB/s]\n",
      " 20%|██        | 539M/2.59G [00:00<00:03, 577MB/s]\n",
      " 22%|██▏       | 596M/2.59G [00:01<00:03, 544MB/s]\n",
      " 25%|██▍       | 659M/2.59G [00:01<00:04, 494MB/s]\n",
      " 27%|██▋       | 718M/2.59G [00:01<00:03, 525MB/s]\n",
      " 29%|██▉       | 777M/2.59G [00:01<00:03, 550MB/s]\n",
      " 31%|███▏      | 831M/2.59G [00:01<00:03, 511MB/s]\n",
      " 33%|███▎      | 886M/2.59G [00:01<00:03, 528MB/s]\n",
      " 35%|███▌      | 941M/2.59G [00:01<00:03, 541MB/s]\n",
      " 37%|███▋      | 994M/2.59G [00:01<00:03, 501MB/s]\n",
      " 40%|███▉      | 1.02G/2.59G [00:01<00:03, 518MB/s]\n",
      " 42%|████▏     | 1.08G/2.59G [00:02<00:03, 527MB/s]\n",
      " 43%|████▎     | 1.12G/2.59G [00:02<00:03, 493MB/s]\n",
      " 46%|████▌     | 1.18G/2.59G [00:02<00:02, 523MB/s]\n",
      " 48%|████▊     | 1.23G/2.59G [00:02<00:02, 523MB/s]\n",
      " 49%|████▉     | 1.28G/2.59G [00:02<00:02, 484MB/s]\n",
      " 52%|█████▏    | 1.33G/2.59G [00:02<00:02, 509MB/s]\n",
      " 54%|█████▎    | 1.39G/2.59G [00:02<00:02, 522MB/s]\n",
      " 56%|█████▌    | 1.44G/2.59G [00:02<00:02, 505MB/s]\n",
      " 58%|█████▊    | 1.50G/2.59G [00:02<00:02, 529MB/s]\n",
      " 60%|██████    | 1.56G/2.59G [00:03<00:02, 515MB/s]\n",
      " 62%|██████▏   | 1.62G/2.59G [00:03<00:01, 534MB/s]\n",
      " 64%|██████▍   | 1.67G/2.59G [00:03<00:01, 526MB/s]\n",
      " 66%|██████▋   | 1.72G/2.59G [00:03<00:01, 485MB/s]\n",
      " 68%|██████▊   | 1.77G/2.59G [00:03<00:01, 495MB/s]\n",
      " 71%|███████   | 1.83G/2.59G [00:03<00:01, 543MB/s]\n",
      " 73%|███████▎  | 1.88G/2.59G [00:03<00:01, 506MB/s]\n",
      " 75%|███████▌  | 1.95G/2.59G [00:03<00:01, 551MB/s]\n",
      " 77%|███████▋  | 2.00G/2.59G [00:04<00:01, 504MB/s]\n",
      " 79%|███████▉  | 2.05G/2.59G [00:04<00:01, 512MB/s]\n",
      " 81%|████████▏ | 2.11G/2.59G [00:04<00:00, 522MB/s]\n",
      " 83%|████████▎ | 2.16G/2.59G [00:04<00:00, 515MB/s]\n",
      " 85%|████████▌ | 2.21G/2.59G [00:04<00:00, 496MB/s]\n",
      " 87%|████████▋ | 2.26G/2.59G [00:04<00:00, 506MB/s]\n",
      " 89%|████████▉ | 2.32G/2.59G [00:04<00:00, 534MB/s]\n",
      " 91%|█████████▏| 2.37G/2.59G [00:04<00:00, 532MB/s]\n",
      " 93%|█████████▎| 2.42G/2.59G [00:04<00:00, 485MB/s]\n",
      " 95%|█████████▌| 2.47G/2.59G [00:05<00:00, 504MB/s]\n",
      " 97%|█████████▋| 2.52G/2.59G [00:05<00:00, 512MB/s]\n",
      "100%|█████████▉| 2.58G/2.59G [00:05<00:00, 542MB/s]\n",
      "100%|██████████| 2.59G/2.59G [00:05<00:00, 528MB/s]\n"
     ]
    },
    {
     "name": "stdout",
     "output_type": "stream",
     "text": [
      "\n",
      "License(s): Attribution-NonCommercial 4.0 International (CC BY-NC 4.0)\n",
      "Downloading ham1000-segmentation-and-classification.zip to datasets/ham10000_raw\n",
      "\n"
     ]
    }
   ],
   "source": [
    "# download dataset\n",
    "!kaggle datasets download -d surajghuwalewala/ham1000-segmentation-and-classification -p datasets/ham10000_raw --unzip"
   ]
  },
  {
   "cell_type": "code",
   "execution_count": 39,
   "id": "3d8a8e64",
   "metadata": {},
   "outputs": [],
   "source": [
    "# create label\n",
    "df = pd.read_csv(\"datasets/ham10000_raw/GroundTruth.csv\")\n",
    "df[\"label\"] = df[[\"MEL\", \"NV\", \"BCC\", \"AKIEC\", \"BKL\", \"DF\", \"VASC\"]].idxmax(axis=1).str.lower()\n",
    "df = df[df[\"label\"].isin([\"mel\", \"nv\", \"bcc\", \"akiec\", \"bkl\"])].reset_index(drop=True)\n",
    "df[\"file_path\"] = df[\"image\"].apply(lambda x: f\"datasets/ham10000_raw/images/{x}.jpg\")\n",
    "df_drop = df.drop([\"image\", \"MEL\", \"NV\", \"BCC\", \"AKIEC\", \"BKL\", \"DF\", \"VASC\"], axis=1)\n"
   ]
  },
  {
   "cell_type": "code",
   "execution_count": 40,
   "id": "ea9b06fa",
   "metadata": {},
   "outputs": [
    {
     "data": {
      "text/html": [
       "<div>\n",
       "<style scoped>\n",
       "    .dataframe tbody tr th:only-of-type {\n",
       "        vertical-align: middle;\n",
       "    }\n",
       "\n",
       "    .dataframe tbody tr th {\n",
       "        vertical-align: top;\n",
       "    }\n",
       "\n",
       "    .dataframe thead th {\n",
       "        text-align: right;\n",
       "    }\n",
       "</style>\n",
       "<table border=\"1\" class=\"dataframe\">\n",
       "  <thead>\n",
       "    <tr style=\"text-align: right;\">\n",
       "      <th></th>\n",
       "      <th>label</th>\n",
       "      <th>file_path</th>\n",
       "    </tr>\n",
       "  </thead>\n",
       "  <tbody>\n",
       "    <tr>\n",
       "      <th>0</th>\n",
       "      <td>nv</td>\n",
       "      <td>datasets/ham10000_raw/images/ISIC_0024306.jpg</td>\n",
       "    </tr>\n",
       "    <tr>\n",
       "      <th>1</th>\n",
       "      <td>nv</td>\n",
       "      <td>datasets/ham10000_raw/images/ISIC_0024307.jpg</td>\n",
       "    </tr>\n",
       "    <tr>\n",
       "      <th>2</th>\n",
       "      <td>nv</td>\n",
       "      <td>datasets/ham10000_raw/images/ISIC_0024308.jpg</td>\n",
       "    </tr>\n",
       "    <tr>\n",
       "      <th>3</th>\n",
       "      <td>nv</td>\n",
       "      <td>datasets/ham10000_raw/images/ISIC_0024309.jpg</td>\n",
       "    </tr>\n",
       "    <tr>\n",
       "      <th>4</th>\n",
       "      <td>mel</td>\n",
       "      <td>datasets/ham10000_raw/images/ISIC_0024310.jpg</td>\n",
       "    </tr>\n",
       "  </tbody>\n",
       "</table>\n",
       "</div>"
      ],
      "text/plain": [
       "  label                                      file_path\n",
       "0    nv  datasets/ham10000_raw/images/ISIC_0024306.jpg\n",
       "1    nv  datasets/ham10000_raw/images/ISIC_0024307.jpg\n",
       "2    nv  datasets/ham10000_raw/images/ISIC_0024308.jpg\n",
       "3    nv  datasets/ham10000_raw/images/ISIC_0024309.jpg\n",
       "4   mel  datasets/ham10000_raw/images/ISIC_0024310.jpg"
      ]
     },
     "execution_count": 40,
     "metadata": {},
     "output_type": "execute_result"
    }
   ],
   "source": [
    "df_drop.head()"
   ]
  },
  {
   "cell_type": "code",
   "execution_count": 21,
   "id": "71276b9a",
   "metadata": {},
   "outputs": [
    {
     "data": {
      "text/plain": [
       "label\n",
       "nv       6705\n",
       "mel      1113\n",
       "bkl      1099\n",
       "bcc       514\n",
       "akiec     327\n",
       "Name: count, dtype: int64"
      ]
     },
     "execution_count": 21,
     "metadata": {},
     "output_type": "execute_result"
    }
   ],
   "source": [
    "# count total for each target class\n",
    "df[\"label\"] = df[\"label\"].str.lower()\n",
    "\n",
    "target_classes = [\"mel\", \"nv\", \"bcc\", \"bkl\", \"akiec\"]\n",
    "\n",
    "df = df[df[\"label\"].isin(target_classes)].reset_index(drop=True)\n",
    "\n",
    "df[\"label\"].value_counts()"
   ]
  },
  {
   "cell_type": "markdown",
   "id": "fb7f8a95",
   "metadata": {},
   "source": [
    "### Phase 1 Prep"
   ]
  },
  {
   "cell_type": "code",
   "execution_count": 10,
   "id": "463d857c",
   "metadata": {},
   "outputs": [],
   "source": [
    "# targeted data augmentation and save it\n",
    "aug = ImageDataGenerator(\n",
    "    rotation_range=20,\n",
    "    zoom_range=0.2,\n",
    "    horizontal_flip=True,\n",
    "    brightness_range=[0.8, 1.2],\n",
    "    shear_range=0.15,\n",
    "    fill_mode='nearest'\n",
    ")\n",
    "\n",
    "augmentation_plan = {\n",
    "    \"mel\": 6,\n",
    "    \"bkl\": 6,\n",
    "    \"bcc\": 12,\n",
    "    \"akiec\": 20\n",
    "}\n",
    "\n",
    "augmented_dir = Path(\"datasets/ham10000_augmented\")\n",
    "augmented_dir.mkdir(parents=True, exist_ok=True)\n",
    "\n",
    "for label, times in augmentation_plan.items():\n",
    "    subset = df[df[\"label\"] == label]\n",
    "    save_folder = augmented_dir / label\n",
    "    save_folder.mkdir(parents=True, exist_ok=True)\n",
    "    for _, row in subset.iterrows():\n",
    "        img = load_img(row[\"file_path\"])\n",
    "        img_array = img_to_array(img)\n",
    "        img_array = np.expand_dims(img_array, axis=0)\n",
    "        gen = aug.flow(img_array, batch_size=1)\n",
    "        for i in range(times):\n",
    "            aug_img = next(gen)[0].astype(np.uint8)\n",
    "            save_img(save_folder / f\"{row['image']}_aug{i}.jpg\", aug_img)\n"
   ]
  },
  {
   "cell_type": "code",
   "execution_count": 11,
   "id": "2454f9ce",
   "metadata": {},
   "outputs": [],
   "source": [
    "# copy original + augmented to phase1_prepared/skin_disease/\n",
    "phase1_path = Path(\"datasets/phase1_prepared/skin_disease\")\n",
    "phase1_path.mkdir(parents=True, exist_ok=True)\n",
    "\n",
    "for _, row in df.iterrows():\n",
    "    shutil.copy(row[\"file_path\"], phase1_path / f\"{row['image']}.jpg\")\n",
    "\n",
    "for label in augmentation_plan:\n",
    "    for f in (augmented_dir / label).glob(\"*.jpg\"):\n",
    "        shutil.copy(f, phase1_path / f.name)"
   ]
  },
  {
   "cell_type": "code",
   "execution_count": 12,
   "id": "e24a6d68",
   "metadata": {},
   "outputs": [
    {
     "name": "stdout",
     "output_type": "stream",
     "text": [
      "Done splitting and copying Phase 1 dataset.\n"
     ]
    }
   ],
   "source": [
    "# splitting to 80 10 10\n",
    "image_paths = list(phase1_path.glob(\"*.jpg\"))\n",
    "\n",
    "df_phase1 = pd.DataFrame({\n",
    "    \"file_path\": image_paths,\n",
    "    \"label\": [\"skin\"] * len(image_paths)\n",
    "})\n",
    "\n",
    "train_df, temp_df = train_test_split(df_phase1, test_size=0.2, random_state=42)\n",
    "val_df, test_df = train_test_split(temp_df, test_size=0.5, random_state=42)\n",
    "\n",
    "split_data = [(\"train\", train_df), (\"val\", val_df), (\"test\", test_df)]\n",
    "for split_name, split_df in split_data:\n",
    "    out_dir = Path(f\"datasets/phase1_prepared/{split_name}/skin\")\n",
    "    out_dir.mkdir(parents=True, exist_ok=True)\n",
    "    for _, row in split_df.iterrows():\n",
    "        shutil.copy(row[\"file_path\"], out_dir / row[\"file_path\"].name)\n",
    "\n",
    "print(\"Done splitting and copying Phase 1 dataset.\")"
   ]
  },
  {
   "cell_type": "markdown",
   "id": "89f44762",
   "metadata": {},
   "source": [
    "### Phase 1 Trian Model"
   ]
  },
  {
   "cell_type": "code",
   "execution_count": null,
   "id": "9893085d",
   "metadata": {},
   "outputs": [
    {
     "name": "stdout",
     "output_type": "stream",
     "text": [
      "Found 28590 images belonging to 1 classes.\n",
      "Found 3574 images belonging to 1 classes.\n",
      "Found 3574 images belonging to 1 classes.\n"
     ]
    }
   ],
   "source": [
    "# create dataloaders\n",
    "IMG_SIZE = (224, 224)\n",
    "BATCH_SIZE = 32\n",
    "base_dir = Path(\"datasets/phase1_prepared\")\n",
    "\n",
    "train_dir = base_dir / \"train\"\n",
    "val_dir = base_dir / \"val\"\n",
    "test_dir = base_dir / \"test\"\n",
    "\n",
    "train_datagen = ImageDataGenerator(rescale=1./255)\n",
    "val_test_datagen = ImageDataGenerator(rescale=1./255)\n",
    "\n",
    "train_gen = train_datagen.flow_from_directory(\n",
    "    directory=train_dir,\n",
    "    target_size=IMG_SIZE,\n",
    "    batch_size=BATCH_SIZE,\n",
    "    class_mode=\"binary\",\n",
    "    shuffle=True\n",
    ")\n",
    "\n",
    "val_gen = val_test_datagen.flow_from_directory(\n",
    "    directory=val_dir,\n",
    "    target_size=IMG_SIZE,\n",
    "    batch_size=BATCH_SIZE,\n",
    "    class_mode=\"binary\",\n",
    "    shuffle=False\n",
    ")\n",
    "\n",
    "test_gen = val_test_datagen.flow_from_directory(\n",
    "    directory=test_dir,\n",
    "    target_size=IMG_SIZE,\n",
    "    batch_size=BATCH_SIZE,\n",
    "    class_mode=\"binary\",\n",
    "    shuffle=False\n",
    ")"
   ]
  },
  {
   "cell_type": "code",
   "execution_count": 15,
   "id": "6363136f",
   "metadata": {},
   "outputs": [
    {
     "name": "stdout",
     "output_type": "stream",
     "text": [
      "Training MobileNet (50 epochs)...\n",
      "Epoch 1/50\n",
      "894/894 [==============================] - 277s 308ms/step - loss: 0.0051 - accuracy: 0.9987 - val_loss: 2.9856e-05 - val_accuracy: 1.0000\n",
      "Epoch 2/50\n",
      "894/894 [==============================] - 161s 180ms/step - loss: 1.2294e-05 - accuracy: 1.0000 - val_loss: 4.8243e-06 - val_accuracy: 1.0000\n",
      "Epoch 3/50\n",
      "894/894 [==============================] - 177s 198ms/step - loss: 2.9197e-06 - accuracy: 1.0000 - val_loss: 1.7709e-06 - val_accuracy: 1.0000\n",
      "Epoch 4/50\n",
      "894/894 [==============================] - 177s 198ms/step - loss: 1.1880e-06 - accuracy: 1.0000 - val_loss: 8.2401e-07 - val_accuracy: 1.0000\n",
      "Epoch 5/50\n",
      "894/894 [==============================] - 177s 198ms/step - loss: 5.8283e-07 - accuracy: 1.0000 - val_loss: 4.4548e-07 - val_accuracy: 1.0000\n",
      "Epoch 6/50\n",
      "894/894 [==============================] - 177s 198ms/step - loss: 3.1827e-07 - accuracy: 1.0000 - val_loss: 2.5573e-07 - val_accuracy: 1.0000\n",
      "Epoch 7/50\n",
      "894/894 [==============================] - 177s 198ms/step - loss: 1.8428e-07 - accuracy: 1.0000 - val_loss: 1.5504e-07 - val_accuracy: 1.0000\n",
      "Epoch 8/50\n",
      "894/894 [==============================] - 177s 197ms/step - loss: 1.1046e-07 - accuracy: 1.0000 - val_loss: 9.7071e-08 - val_accuracy: 1.0000\n",
      "Epoch 9/50\n",
      "894/894 [==============================] - 177s 198ms/step - loss: 6.8133e-08 - accuracy: 1.0000 - val_loss: 6.1553e-08 - val_accuracy: 1.0000\n",
      "Epoch 10/50\n",
      "894/894 [==============================] - 177s 198ms/step - loss: 4.3557e-08 - accuracy: 1.0000 - val_loss: 4.0739e-08 - val_accuracy: 1.0000\n",
      "Epoch 11/50\n",
      "894/894 [==============================] - 177s 197ms/step - loss: 2.8366e-08 - accuracy: 1.0000 - val_loss: 2.7295e-08 - val_accuracy: 1.0000\n",
      "Epoch 12/50\n",
      "894/894 [==============================] - 177s 197ms/step - loss: 1.8868e-08 - accuracy: 1.0000 - val_loss: 1.8815e-08 - val_accuracy: 1.0000\n",
      "Epoch 13/50\n",
      "894/894 [==============================] - 177s 197ms/step - loss: 1.2770e-08 - accuracy: 1.0000 - val_loss: 1.3059e-08 - val_accuracy: 1.0000\n",
      "Epoch 14/50\n",
      "894/894 [==============================] - 177s 197ms/step - loss: 8.7138e-09 - accuracy: 1.0000 - val_loss: 9.1594e-09 - val_accuracy: 1.0000\n",
      "Epoch 15/50\n",
      "894/894 [==============================] - 177s 197ms/step - loss: 6.0271e-09 - accuracy: 1.0000 - val_loss: 6.4995e-09 - val_accuracy: 1.0000\n",
      "Epoch 16/50\n",
      "894/894 [==============================] - 177s 197ms/step - loss: 4.2188e-09 - accuracy: 1.0000 - val_loss: 4.7002e-09 - val_accuracy: 1.0000\n",
      "Epoch 17/50\n",
      "894/894 [==============================] - 177s 197ms/step - loss: 3.0249e-09 - accuracy: 1.0000 - val_loss: 3.4772e-09 - val_accuracy: 1.0000\n",
      "Epoch 18/50\n",
      "894/894 [==============================] - 177s 197ms/step - loss: 2.1934e-09 - accuracy: 1.0000 - val_loss: 2.5822e-09 - val_accuracy: 1.0000\n",
      "Epoch 19/50\n",
      "894/894 [==============================] - 177s 197ms/step - loss: 1.6181e-09 - accuracy: 1.0000 - val_loss: 1.9722e-09 - val_accuracy: 1.0000\n",
      "Epoch 20/50\n",
      "894/894 [==============================] - 176s 197ms/step - loss: 1.2187e-09 - accuracy: 1.0000 - val_loss: 1.5301e-09 - val_accuracy: 1.0000\n",
      "Epoch 21/50\n",
      "894/894 [==============================] - 177s 197ms/step - loss: 9.2221e-10 - accuracy: 1.0000 - val_loss: 1.1783e-09 - val_accuracy: 1.0000\n",
      "Epoch 22/50\n",
      "894/894 [==============================] - 177s 197ms/step - loss: 7.1537e-10 - accuracy: 1.0000 - val_loss: 9.4707e-10 - val_accuracy: 1.0000\n",
      "Epoch 23/50\n",
      "894/894 [==============================] - 177s 197ms/step - loss: 5.6521e-10 - accuracy: 1.0000 - val_loss: 7.6369e-10 - val_accuracy: 1.0000\n",
      "Epoch 24/50\n",
      "894/894 [==============================] - 177s 197ms/step - loss: 4.5423e-10 - accuracy: 1.0000 - val_loss: 6.3045e-10 - val_accuracy: 1.0000\n",
      "Epoch 25/50\n",
      "894/894 [==============================] - 177s 197ms/step - loss: 3.7164e-10 - accuracy: 1.0000 - val_loss: 5.3010e-10 - val_accuracy: 1.0000\n",
      "Epoch 26/50\n",
      "894/894 [==============================] - 177s 197ms/step - loss: 3.0820e-10 - accuracy: 1.0000 - val_loss: 4.4561e-10 - val_accuracy: 1.0000\n",
      "Epoch 27/50\n",
      "894/894 [==============================] - 177s 197ms/step - loss: 2.6089e-10 - accuracy: 1.0000 - val_loss: 3.8563e-10 - val_accuracy: 1.0000\n",
      "Epoch 28/50\n",
      "894/894 [==============================] - 177s 197ms/step - loss: 2.2380e-10 - accuracy: 1.0000 - val_loss: 3.3656e-10 - val_accuracy: 1.0000\n",
      "Epoch 29/50\n",
      "894/894 [==============================] - 177s 197ms/step - loss: 1.9449e-10 - accuracy: 1.0000 - val_loss: 2.9700e-10 - val_accuracy: 1.0000\n",
      "Epoch 30/50\n",
      "894/894 [==============================] - 177s 197ms/step - loss: 1.7073e-10 - accuracy: 1.0000 - val_loss: 2.6483e-10 - val_accuracy: 1.0000\n",
      "Epoch 31/50\n",
      "894/894 [==============================] - 177s 197ms/step - loss: 1.5140e-10 - accuracy: 1.0000 - val_loss: 2.3808e-10 - val_accuracy: 1.0000\n",
      "Epoch 32/50\n",
      "894/894 [==============================] - 177s 197ms/step - loss: 1.3567e-10 - accuracy: 1.0000 - val_loss: 2.1614e-10 - val_accuracy: 1.0000\n",
      "Epoch 33/50\n",
      "894/894 [==============================] - 177s 197ms/step - loss: 1.2281e-10 - accuracy: 1.0000 - val_loss: 1.9802e-10 - val_accuracy: 1.0000\n",
      "Epoch 34/50\n",
      "894/894 [==============================] - 177s 197ms/step - loss: 1.1184e-10 - accuracy: 1.0000 - val_loss: 1.8212e-10 - val_accuracy: 1.0000\n",
      "Epoch 35/50\n",
      "894/894 [==============================] - 177s 197ms/step - loss: 1.0259e-10 - accuracy: 1.0000 - val_loss: 1.6876e-10 - val_accuracy: 1.0000\n",
      "Epoch 36/50\n",
      "894/894 [==============================] - 177s 197ms/step - loss: 9.4751e-11 - accuracy: 1.0000 - val_loss: 1.5717e-10 - val_accuracy: 1.0000\n",
      "Epoch 37/50\n",
      "894/894 [==============================] - 177s 197ms/step - loss: 8.7933e-11 - accuracy: 1.0000 - val_loss: 1.4705e-10 - val_accuracy: 1.0000\n",
      "Epoch 38/50\n",
      "894/894 [==============================] - 177s 197ms/step - loss: 8.1972e-11 - accuracy: 1.0000 - val_loss: 1.3806e-10 - val_accuracy: 1.0000\n",
      "Epoch 39/50\n",
      "894/894 [==============================] - 177s 197ms/step - loss: 7.6692e-11 - accuracy: 1.0000 - val_loss: 1.3007e-10 - val_accuracy: 1.0000\n",
      "Epoch 40/50\n",
      "894/894 [==============================] - 177s 198ms/step - loss: 7.2149e-11 - accuracy: 1.0000 - val_loss: 1.2307e-10 - val_accuracy: 1.0000\n",
      "Epoch 41/50\n",
      "894/894 [==============================] - 177s 197ms/step - loss: 6.8013e-11 - accuracy: 1.0000 - val_loss: 1.1678e-10 - val_accuracy: 1.0000\n",
      "Epoch 42/50\n",
      "894/894 [==============================] - 177s 197ms/step - loss: 6.4334e-11 - accuracy: 1.0000 - val_loss: 1.1109e-10 - val_accuracy: 1.0000\n",
      "Epoch 43/50\n",
      "894/894 [==============================] - 177s 197ms/step - loss: 6.1015e-11 - accuracy: 1.0000 - val_loss: 1.0587e-10 - val_accuracy: 1.0000\n",
      "Epoch 44/50\n",
      "894/894 [==============================] - 177s 197ms/step - loss: 5.7993e-11 - accuracy: 1.0000 - val_loss: 1.0117e-10 - val_accuracy: 1.0000\n",
      "Epoch 45/50\n",
      "894/894 [==============================] - 177s 197ms/step - loss: 5.5275e-11 - accuracy: 1.0000 - val_loss: 9.6884e-11 - val_accuracy: 1.0000\n",
      "Epoch 46/50\n",
      "894/894 [==============================] - 177s 197ms/step - loss: 5.2809e-11 - accuracy: 1.0000 - val_loss: 9.2938e-11 - val_accuracy: 1.0000\n",
      "Epoch 47/50\n",
      "894/894 [==============================] - 177s 197ms/step - loss: 5.0520e-11 - accuracy: 1.0000 - val_loss: 8.9302e-11 - val_accuracy: 1.0000\n",
      "Epoch 48/50\n",
      "894/894 [==============================] - 177s 197ms/step - loss: 4.8436e-11 - accuracy: 1.0000 - val_loss: 8.6072e-11 - val_accuracy: 1.0000\n",
      "Epoch 49/50\n",
      "894/894 [==============================] - 177s 197ms/step - loss: 4.6525e-11 - accuracy: 1.0000 - val_loss: 8.2933e-11 - val_accuracy: 1.0000\n",
      "Epoch 50/50\n",
      "894/894 [==============================] - 177s 197ms/step - loss: 4.4749e-11 - accuracy: 1.0000 - val_loss: 8.0038e-11 - val_accuracy: 1.0000\n"
     ]
    }
   ],
   "source": [
    "# mobilenet\n",
    "print(\"Training MobileNet (50 epochs)...\")\n",
    "base_model = MobileNet(weights='imagenet', include_top=False, input_shape=(224, 224, 3))\n",
    "x = GlobalAveragePooling2D()(base_model.output)\n",
    "x = Dense(128, activation='relu')(x)\n",
    "output = Dense(1, activation='sigmoid')(x)\n",
    "model = Model(inputs=base_model.input, outputs=output)\n",
    "\n",
    "for layer in base_model.layers:\n",
    "    layer.trainable = False\n",
    "\n",
    "model.compile(optimizer=Adam(1e-4), loss='binary_crossentropy', metrics=['accuracy'])\n",
    "early_stop = EarlyStopping(patience=20, restore_best_weights=True, verbose=1)\n",
    "\n",
    "history_mobilenet = model.fit(\n",
    "    train_gen,\n",
    "    validation_data=val_gen,\n",
    "    epochs=50,\n",
    "    callbacks=[early_stop],\n",
    ")\n",
    "\n",
    "model.save(\"mobilenet_phase1_binary.h5\")\n",
    "K.clear_session()"
   ]
  },
  {
   "cell_type": "code",
   "execution_count": 8,
   "id": "1d3181de",
   "metadata": {},
   "outputs": [
    {
     "name": "stdout",
     "output_type": "stream",
     "text": [
      "Training MobileNetV2 (50 epochs)...\n",
      "Epoch 1/50\n",
      "894/894 [==============================] - 131s 142ms/step - loss: 0.0028 - accuracy: 0.9995 - val_loss: 5.4977e-06 - val_accuracy: 1.0000\n",
      "Epoch 2/50\n",
      "894/894 [==============================] - 97s 108ms/step - loss: 2.9386e-06 - accuracy: 1.0000 - val_loss: 1.2282e-06 - val_accuracy: 1.0000\n",
      "Epoch 3/50\n",
      "894/894 [==============================] - 102s 114ms/step - loss: 8.6766e-07 - accuracy: 1.0000 - val_loss: 4.7251e-07 - val_accuracy: 1.0000\n",
      "Epoch 4/50\n",
      "894/894 [==============================] - 97s 108ms/step - loss: 3.7401e-07 - accuracy: 1.0000 - val_loss: 2.2494e-07 - val_accuracy: 1.0000\n",
      "Epoch 5/50\n",
      "894/894 [==============================] - 98s 109ms/step - loss: 1.8930e-07 - accuracy: 1.0000 - val_loss: 1.1958e-07 - val_accuracy: 1.0000\n",
      "Epoch 6/50\n",
      "894/894 [==============================] - 97s 109ms/step - loss: 1.0442e-07 - accuracy: 1.0000 - val_loss: 6.7735e-08 - val_accuracy: 1.0000\n",
      "Epoch 7/50\n",
      "894/894 [==============================] - 99s 111ms/step - loss: 6.0702e-08 - accuracy: 1.0000 - val_loss: 3.9912e-08 - val_accuracy: 1.0000\n",
      "Epoch 8/50\n",
      "894/894 [==============================] - 99s 111ms/step - loss: 3.6704e-08 - accuracy: 1.0000 - val_loss: 2.4508e-08 - val_accuracy: 1.0000\n",
      "Epoch 9/50\n",
      "894/894 [==============================] - 99s 111ms/step - loss: 2.2890e-08 - accuracy: 1.0000 - val_loss: 1.5341e-08 - val_accuracy: 1.0000\n",
      "Epoch 10/50\n",
      "894/894 [==============================] - 98s 110ms/step - loss: 1.4605e-08 - accuracy: 1.0000 - val_loss: 9.8529e-09 - val_accuracy: 1.0000\n",
      "Epoch 11/50\n",
      "894/894 [==============================] - 102s 114ms/step - loss: 9.5512e-09 - accuracy: 1.0000 - val_loss: 6.4662e-09 - val_accuracy: 1.0000\n",
      "Epoch 12/50\n",
      "894/894 [==============================] - 113s 126ms/step - loss: 6.3567e-09 - accuracy: 1.0000 - val_loss: 4.3116e-09 - val_accuracy: 1.0000\n",
      "Epoch 13/50\n",
      "894/894 [==============================] - 98s 110ms/step - loss: 4.3110e-09 - accuracy: 1.0000 - val_loss: 2.9243e-09 - val_accuracy: 1.0000\n",
      "Epoch 14/50\n",
      "894/894 [==============================] - 101s 112ms/step - loss: 2.9739e-09 - accuracy: 1.0000 - val_loss: 2.0237e-09 - val_accuracy: 1.0000\n",
      "Epoch 15/50\n",
      "894/894 [==============================] - 100s 112ms/step - loss: 2.0906e-09 - accuracy: 1.0000 - val_loss: 1.4226e-09 - val_accuracy: 1.0000\n",
      "Epoch 16/50\n",
      "894/894 [==============================] - 101s 113ms/step - loss: 1.4981e-09 - accuracy: 1.0000 - val_loss: 1.0205e-09 - val_accuracy: 1.0000\n",
      "Epoch 17/50\n",
      "894/894 [==============================] - 101s 113ms/step - loss: 1.0963e-09 - accuracy: 1.0000 - val_loss: 7.4936e-10 - val_accuracy: 1.0000\n",
      "Epoch 18/50\n",
      "894/894 [==============================] - 101s 113ms/step - loss: 8.2033e-10 - accuracy: 1.0000 - val_loss: 5.6046e-10 - val_accuracy: 1.0000\n",
      "Epoch 19/50\n",
      "894/894 [==============================] - 99s 111ms/step - loss: 6.2667e-10 - accuracy: 1.0000 - val_loss: 4.2972e-10 - val_accuracy: 1.0000\n",
      "Epoch 20/50\n",
      "894/894 [==============================] - 102s 114ms/step - loss: 4.8998e-10 - accuracy: 1.0000 - val_loss: 3.3737e-10 - val_accuracy: 1.0000\n",
      "Epoch 21/50\n",
      "894/894 [==============================] - 98s 110ms/step - loss: 3.9252e-10 - accuracy: 1.0000 - val_loss: 2.7138e-10 - val_accuracy: 1.0000\n",
      "Epoch 22/50\n",
      "894/894 [==============================] - 102s 114ms/step - loss: 3.2160e-10 - accuracy: 1.0000 - val_loss: 2.2326e-10 - val_accuracy: 1.0000\n",
      "Epoch 23/50\n",
      "894/894 [==============================] - 99s 111ms/step - loss: 2.6887e-10 - accuracy: 1.0000 - val_loss: 1.8715e-10 - val_accuracy: 1.0000\n",
      "Epoch 24/50\n",
      "894/894 [==============================] - 98s 109ms/step - loss: 2.2882e-10 - accuracy: 1.0000 - val_loss: 1.5989e-10 - val_accuracy: 1.0000\n",
      "Epoch 25/50\n",
      "894/894 [==============================] - 102s 114ms/step - loss: 1.9772e-10 - accuracy: 1.0000 - val_loss: 1.3841e-10 - val_accuracy: 1.0000\n",
      "Epoch 26/50\n",
      "894/894 [==============================] - 101s 113ms/step - loss: 1.7306e-10 - accuracy: 1.0000 - val_loss: 1.2150e-10 - val_accuracy: 1.0000\n",
      "Epoch 27/50\n",
      "894/894 [==============================] - 97s 108ms/step - loss: 1.5318e-10 - accuracy: 1.0000 - val_loss: 1.0753e-10 - val_accuracy: 1.0000\n",
      "Epoch 28/50\n",
      "894/894 [==============================] - 103s 115ms/step - loss: 1.3702e-10 - accuracy: 1.0000 - val_loss: 9.6367e-11 - val_accuracy: 1.0000\n",
      "Epoch 29/50\n",
      "894/894 [==============================] - 99s 111ms/step - loss: 1.2367e-10 - accuracy: 1.0000 - val_loss: 8.6938e-11 - val_accuracy: 1.0000\n",
      "Epoch 30/50\n",
      "894/894 [==============================] - 97s 108ms/step - loss: 1.1256e-10 - accuracy: 1.0000 - val_loss: 7.9166e-11 - val_accuracy: 1.0000\n",
      "Epoch 31/50\n",
      "894/894 [==============================] - 97s 108ms/step - loss: 1.0316e-10 - accuracy: 1.0000 - val_loss: 7.2555e-11 - val_accuracy: 1.0000\n",
      "Epoch 32/50\n",
      "894/894 [==============================] - 97s 108ms/step - loss: 9.5134e-11 - accuracy: 1.0000 - val_loss: 6.6919e-11 - val_accuracy: 1.0000\n",
      "Epoch 33/50\n",
      "894/894 [==============================] - 100s 111ms/step - loss: 8.8203e-11 - accuracy: 1.0000 - val_loss: 6.2061e-11 - val_accuracy: 1.0000\n",
      "Epoch 34/50\n",
      "894/894 [==============================] - 99s 111ms/step - loss: 8.2187e-11 - accuracy: 1.0000 - val_loss: 5.7830e-11 - val_accuracy: 1.0000\n",
      "Epoch 35/50\n",
      "894/894 [==============================] - 99s 111ms/step - loss: 7.6935e-11 - accuracy: 1.0000 - val_loss: 5.4101e-11 - val_accuracy: 1.0000\n",
      "Epoch 36/50\n",
      "894/894 [==============================] - 100s 111ms/step - loss: 7.2310e-11 - accuracy: 1.0000 - val_loss: 5.0820e-11 - val_accuracy: 1.0000\n",
      "Epoch 37/50\n",
      "894/894 [==============================] - 97s 109ms/step - loss: 6.8203e-11 - accuracy: 1.0000 - val_loss: 4.7920e-11 - val_accuracy: 1.0000\n",
      "Epoch 38/50\n",
      "894/894 [==============================] - 99s 111ms/step - loss: 6.4536e-11 - accuracy: 1.0000 - val_loss: 4.5330e-11 - val_accuracy: 1.0000\n",
      "Epoch 39/50\n",
      "894/894 [==============================] - 99s 111ms/step - loss: 6.1243e-11 - accuracy: 1.0000 - val_loss: 4.2976e-11 - val_accuracy: 1.0000\n",
      "Epoch 40/50\n",
      "894/894 [==============================] - 96s 108ms/step - loss: 5.8267e-11 - accuracy: 1.0000 - val_loss: 4.0855e-11 - val_accuracy: 1.0000\n",
      "Epoch 41/50\n",
      "894/894 [==============================] - 100s 112ms/step - loss: 5.5568e-11 - accuracy: 1.0000 - val_loss: 3.8967e-11 - val_accuracy: 1.0000\n",
      "Epoch 42/50\n",
      "894/894 [==============================] - 96s 108ms/step - loss: 5.3115e-11 - accuracy: 1.0000 - val_loss: 3.7223e-11 - val_accuracy: 1.0000\n",
      "Epoch 43/50\n",
      "894/894 [==============================] - 97s 108ms/step - loss: 5.0870e-11 - accuracy: 1.0000 - val_loss: 3.5598e-11 - val_accuracy: 1.0000\n",
      "Epoch 44/50\n",
      "894/894 [==============================] - 96s 108ms/step - loss: 4.8804e-11 - accuracy: 1.0000 - val_loss: 3.4127e-11 - val_accuracy: 1.0000\n",
      "Epoch 45/50\n",
      "894/894 [==============================] - 97s 109ms/step - loss: 4.6903e-11 - accuracy: 1.0000 - val_loss: 3.2779e-11 - val_accuracy: 1.0000\n",
      "Epoch 46/50\n",
      "894/894 [==============================] - 102s 114ms/step - loss: 4.5149e-11 - accuracy: 1.0000 - val_loss: 3.1526e-11 - val_accuracy: 1.0000\n",
      "Epoch 47/50\n",
      "894/894 [==============================] - 96s 108ms/step - loss: 4.3515e-11 - accuracy: 1.0000 - val_loss: 3.0360e-11 - val_accuracy: 1.0000\n",
      "Epoch 48/50\n",
      "894/894 [==============================] - 98s 109ms/step - loss: 4.2003e-11 - accuracy: 1.0000 - val_loss: 2.9287e-11 - val_accuracy: 1.0000\n",
      "Epoch 49/50\n",
      "894/894 [==============================] - 98s 110ms/step - loss: 4.0591e-11 - accuracy: 1.0000 - val_loss: 2.8287e-11 - val_accuracy: 1.0000\n",
      "Epoch 50/50\n",
      "894/894 [==============================] - 99s 110ms/step - loss: 3.9273e-11 - accuracy: 1.0000 - val_loss: 2.7343e-11 - val_accuracy: 1.0000\n"
     ]
    }
   ],
   "source": [
    "# mobilenetv2\n",
    "print(\"Training MobileNetV2 (50 epochs)...\")\n",
    "base_model = MobileNetV2(weights='imagenet', include_top=False, input_shape=(224, 224, 3))\n",
    "x = GlobalAveragePooling2D()(base_model.output)\n",
    "x = Dense(128, activation='relu')(x)\n",
    "output = Dense(1, activation='sigmoid')(x)\n",
    "model = Model(inputs=base_model.input, outputs=output)\n",
    "\n",
    "for layer in base_model.layers:\n",
    "    layer.trainable = False\n",
    "\n",
    "model.compile(optimizer=Adam(1e-4), loss='binary_crossentropy', metrics=['accuracy'])\n",
    "early_stop = EarlyStopping(patience=10, restore_best_weights=True, verbose=1)\n",
    "\n",
    "history_mobilenetv2 = model.fit(\n",
    "    train_gen,\n",
    "    validation_data=val_gen,\n",
    "    epochs=50,\n",
    "    callbacks=[early_stop]\n",
    ")\n",
    "\n",
    "model.save(\"mobilenetv2_phase1_binary.h5\")\n",
    "K.clear_session()"
   ]
  },
  {
   "cell_type": "markdown",
   "id": "9b832bd7",
   "metadata": {},
   "source": [
    "### Phase 1 Compare"
   ]
  },
  {
   "cell_type": "code",
   "execution_count": null,
   "id": "b8966630",
   "metadata": {},
   "outputs": [],
   "source": [
    "# load model to compare\n",
    "mobilenet = load_model(\"mobilenet_phase1_binary.h5\")\n",
    "mobilenetv2 = load_model(\"mobilenetv2_phase1_binary.h5\")\n",
    "\n",
    "test_loss_mn, test_acc_mn = mobilenet.evaluate(test_gen, verbose=0)\n",
    "test_loss_mn2, test_acc_mn2 = mobilenetv2.evaluate(test_gen, verbose=0)"
   ]
  },
  {
   "cell_type": "code",
   "execution_count": null,
   "id": "9b9a9ad8",
   "metadata": {},
   "outputs": [
    {
     "data": {
      "text/plain": [
       "Text(0, 0.5, 'Accuracy')"
      ]
     },
     "execution_count": 11,
     "metadata": {},
     "output_type": "execute_result"
    },
    {
     "data": {
      "image/png": "[encoded data removed]",
      "text/plain": [
       "<Figure size 640x480 with 1 Axes>"
      ]
     },
     "metadata": {},
     "output_type": "display_data"
    }
   ],
   "source": [
    "# accuracy\n",
    "plt.bar([\"MobileNet\", \"MobileNetV2\"],\n",
    "        [test_acc_mn, test_acc_mn2],\n",
    "        color=[\"red\", \"blue\"])\n",
    "plt.title(\"Test Accuracy\")\n",
    "plt.ylim(0, 1)\n",
    "plt.ylabel(\"Accuracy\")\n"
   ]
  },
  {
   "cell_type": "code",
   "execution_count": null,
   "id": "dc683de8",
   "metadata": {},
   "outputs": [
    {
     "data": {
      "text/plain": [
       "Text(0, 0.5, 'Loss')"
      ]
     },
     "execution_count": 12,
     "metadata": {},
     "output_type": "execute_result"
    },
    {
     "data": {
      "image/png": "[encoded data removed]",
      "text/plain": [
       "<Figure size 640x480 with 1 Axes>"
      ]
     },
     "metadata": {},
     "output_type": "display_data"
    }
   ],
   "source": [
    "# loss\n",
    "plt.bar([\"MobileNet\", \"MobileNetV2\"],\n",
    "        [test_loss_mn, test_loss_mn2],\n",
    "        color=[\"red\", \"blue\"])\n",
    "plt.title(\"Test Loss\")\n",
    "plt.ylabel(\"Loss\")\n"
   ]
  },
  {
   "cell_type": "markdown",
   "id": "474b292f",
   "metadata": {},
   "source": [
    "### Phase 2 Prep"
   ]
  },
  {
   "cell_type": "code",
   "execution_count": 41,
   "id": "afa3ce62",
   "metadata": {},
   "outputs": [
    {
     "name": "stdout",
     "output_type": "stream",
     "text": [
      "Augmented data count per class:\n",
      "label\n",
      "mel      6678\n",
      "bkl      6594\n",
      "akiec    6540\n",
      "bcc      6168\n",
      "Name: count, dtype: int64\n"
     ]
    }
   ],
   "source": [
    "augmented_dir = Path(\"datasets/ham10000_augmented\")\n",
    "\n",
    "augmented_image_paths = []\n",
    "augmented_labels = []\n",
    "\n",
    "for label_dir in augmented_dir.iterdir():\n",
    "    if label_dir.is_dir():\n",
    "        for img_path in label_dir.glob(\"*.jpg\"):\n",
    "            augmented_image_paths.append(img_path)\n",
    "            augmented_labels.append(label_dir.name)\n",
    "\n",
    "df_augmented = pd.DataFrame({\n",
    "    \"label\": augmented_labels,\n",
    "    \"file_path\": augmented_image_paths\n",
    "})\n",
    "\n",
    "print(f\"Augmented data count per class:\\n{df_augmented['label'].value_counts()}\")"
   ]
  },
  {
   "cell_type": "code",
   "execution_count": 44,
   "id": "692f7dcd",
   "metadata": {},
   "outputs": [
    {
     "name": "stdout",
     "output_type": "stream",
     "text": [
      "nv data count:\n",
      "label\n",
      "nv    6705\n",
      "Name: count, dtype: int64\n"
     ]
    }
   ],
   "source": [
    "df_drop[\"label\"] = df_drop[\"label\"].str.lower()\n",
    "\n",
    "target_classes = [\"nv\"]\n",
    "\n",
    "df_nv = df_drop[df_drop[\"label\"].isin(target_classes)].reset_index(drop=True)\n",
    "\n",
    "print(f\"nv data count:\\n{df_nv['label'].value_counts()}\")"
   ]
  },
  {
   "cell_type": "code",
   "execution_count": 49,
   "id": "f58f5c7a",
   "metadata": {},
   "outputs": [],
   "source": [
    "# df_augmented.head()"
   ]
  },
  {
   "cell_type": "code",
   "execution_count": 50,
   "id": "82e24497",
   "metadata": {},
   "outputs": [],
   "source": [
    "# df_nv.head()"
   ]
  },
  {
   "cell_type": "code",
   "execution_count": 48,
   "id": "d5dbf3ab",
   "metadata": {},
   "outputs": [
    {
     "name": "stdout",
     "output_type": "stream",
     "text": [
      "label\n",
      "nv       6705\n",
      "mel      6678\n",
      "bkl      6594\n",
      "akiec    6540\n",
      "bcc      6168\n",
      "Name: count, dtype: int64\n"
     ]
    }
   ],
   "source": [
    "df_combined = pd.concat([df_nv, df_augmented], ignore_index=True)\n",
    "print(df_combined['label'].value_counts())\n"
   ]
  },
  {
   "cell_type": "code",
   "execution_count": 52,
   "id": "981140b6",
   "metadata": {},
   "outputs": [
    {
     "name": "stdout",
     "output_type": "stream",
     "text": [
      "Train: (26148, 2)\n",
      "Val: (3268, 2)\n",
      "Test: (3269, 2)\n",
      "\n",
      "Train Distribution:\n",
      " label\n",
      "nv       5364\n",
      "mel      5343\n",
      "bkl      5275\n",
      "akiec    5232\n",
      "bcc      4934\n",
      "Name: count, dtype: int64\n",
      "\n",
      "Val Distribution:\n",
      " label\n",
      "nv       670\n",
      "mel      667\n",
      "bkl      660\n",
      "akiec    654\n",
      "bcc      617\n",
      "Name: count, dtype: int64\n",
      "\n",
      "Test Distribution:\n",
      " label\n",
      "nv       671\n",
      "mel      668\n",
      "bkl      659\n",
      "akiec    654\n",
      "bcc      617\n",
      "Name: count, dtype: int64\n"
     ]
    }
   ],
   "source": [
    "train_df, temp_df = train_test_split(df_combined, test_size=0.2, stratify=df_combined[\"label\"], random_state=42)\n",
    "\n",
    "val_df, test_df = train_test_split(temp_df, test_size=0.5, stratify=temp_df[\"label\"], random_state=42)\n",
    "\n",
    "print(\"Train:\", train_df.shape)\n",
    "print(\"Val:\", val_df.shape)\n",
    "print(\"Test:\", test_df.shape)\n",
    "\n",
    "print(\"\\nTrain Distribution:\\n\", train_df[\"label\"].value_counts())\n",
    "print(\"\\nVal Distribution:\\n\", val_df[\"label\"].value_counts())\n",
    "print(\"\\nTest Distribution:\\n\", test_df[\"label\"].value_counts())"
   ]
  },
  {
   "cell_type": "code",
   "execution_count": 53,
   "id": "c43dd338",
   "metadata": {},
   "outputs": [
    {
     "name": "stdout",
     "output_type": "stream",
     "text": [
      "All images copied to datasets/phase2_prepared\n"
     ]
    }
   ],
   "source": [
    "# copy target classes to new directory\n",
    "output_dir = Path(\"datasets/phase2_prepared\")\n",
    "splits = [(\"train\", train_df), (\"val\", val_df), (\"test\", test_df)]\n",
    "\n",
    "for split_name, df_split in splits:\n",
    "    for _, row in df_split.iterrows():\n",
    "        label = row[\"label\"]\n",
    "        src = row[\"file_path\"]\n",
    "        dst = output_dir / split_name / label\n",
    "        dst.mkdir(parents=True, exist_ok=True)\n",
    "        shutil.copy(src, dst / Path(src).name)\n",
    "\n",
    "print(\"All images copied to datasets/phase2_prepared\")"
   ]
  },
  {
   "cell_type": "markdown",
   "id": "4139fbbc",
   "metadata": {},
   "source": [
    "### Phase 2 Train Model"
   ]
  },
  {
   "cell_type": "code",
   "execution_count": null,
   "id": "29bf5d8f",
   "metadata": {},
   "outputs": [],
   "source": []
  }
 ],
 "metadata": {
  "kernelspec": {
   "display_name": "fyp-gpu",
   "language": "python",
   "name": "python3"
  },
  "language_info": {
   "codemirror_mode": {
    "name": "ipython",
    "version": 3
   },
   "file_extension": ".py",
   "mimetype": "text/x-python",
   "name": "python",
   "nbconvert_exporter": "python",
   "pygments_lexer": "ipython3",
   "version": "3.9.21"
  }
 },
 "nbformat": 4,
 "nbformat_minor": 5
}
