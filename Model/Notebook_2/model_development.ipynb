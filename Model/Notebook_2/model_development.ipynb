{
 "cells": [
  {
   "cell_type": "markdown",
   "id": "893ca563",
   "metadata": {},
   "source": [
    "# Skin Disease Detection using Mobile Application\n",
    "## Final Year Project 2\n",
    "Ahmad Daniel Ikhwan Bin Rosli <br>\n",
    "1201103071"
   ]
  },
  {
   "cell_type": "markdown",
   "id": "8c41cd11",
   "metadata": {},
   "source": [
    "### Load dataset"
   ]
  },
  {
   "cell_type": "code",
   "execution_count": 9,
   "id": "4e045657",
   "metadata": {},
   "outputs": [],
   "source": [
    "import os\n",
    "import shutil\n",
    "from pathlib import Path\n",
    "import pandas as pd\n",
    "import numpy as np\n",
    "import seaborn as sns\n",
    "import matplotlib.pyplot as plt\n",
    "from sklearn.model_selection import train_test_split\n",
    "from sklearn.utils.class_weight import compute_class_weight\n",
    "from sklearn.metrics import classification_report, confusion_matrix\n",
    "from tensorflow.keras.preprocessing.image import ImageDataGenerator, img_to_array, load_img, array_to_img, save_img\n",
    "from tensorflow.keras.applications import MobileNet, MobileNetV2, MobileNetV3Small\n",
    "from tensorflow.keras.models import Model, load_model\n",
    "from tensorflow.keras.layers import Dense, GlobalAveragePooling2D\n",
    "from tensorflow.keras.optimizers import Adam\n",
    "from tensorflow.keras.callbacks import EarlyStopping\n",
    "from tensorflow.keras import backend as K\n"
   ]
  },
  {
   "cell_type": "code",
   "execution_count": null,
   "id": "ff23f914",
   "metadata": {},
   "outputs": [],
   "source": [
    "# kaggle.json path\n",
    "os.environ['PATH'] += os.pathsep + r'C:\\Users\\ADMIN\\AppData\\Roaming\\Microsoft\\Windows\\Recent\\kaggle.json.lnk'"
   ]
  },
  {
   "cell_type": "code",
   "execution_count": null,
   "id": "5bd9ed03",
   "metadata": {},
   "outputs": [
    {
     "name": "stdout",
     "output_type": "stream",
     "text": [
      "Dataset URL: https://www.kaggle.com/datasets/surajghuwalewala/ham1000-segmentation-and-classification"
     ]
    },
    {
     "name": "stderr",
     "output_type": "stream",
     "text": [
      "\n",
      "  0%|          | 0.00/2.59G [00:00<?, ?B/s]\n",
      "  3%|▎         | 70.0M/2.59G [00:00<00:03, 691MB/s]\n",
      "  6%|▌         | 152M/2.59G [00:00<00:03, 757MB/s] \n",
      "  8%|▊         | 225M/2.59G [00:00<00:04, 631MB/s]\n",
      " 11%|█         | 288M/2.59G [00:00<00:03, 640MB/s]\n",
      " 13%|█▎        | 351M/2.59G [00:00<00:04, 547MB/s]\n",
      " 16%|█▌        | 422M/2.59G [00:00<00:03, 597MB/s]\n",
      " 18%|█▊        | 482M/2.59G [00:00<00:03, 573MB/s]\n",
      " 20%|██        | 539M/2.59G [00:00<00:03, 577MB/s]\n",
      " 22%|██▏       | 596M/2.59G [00:01<00:03, 544MB/s]\n",
      " 25%|██▍       | 659M/2.59G [00:01<00:04, 494MB/s]\n",
      " 27%|██▋       | 718M/2.59G [00:01<00:03, 525MB/s]\n",
      " 29%|██▉       | 777M/2.59G [00:01<00:03, 550MB/s]\n",
      " 31%|███▏      | 831M/2.59G [00:01<00:03, 511MB/s]\n",
      " 33%|███▎      | 886M/2.59G [00:01<00:03, 528MB/s]\n",
      " 35%|███▌      | 941M/2.59G [00:01<00:03, 541MB/s]\n",
      " 37%|███▋      | 994M/2.59G [00:01<00:03, 501MB/s]\n",
      " 40%|███▉      | 1.02G/2.59G [00:01<00:03, 518MB/s]\n",
      " 42%|████▏     | 1.08G/2.59G [00:02<00:03, 527MB/s]\n",
      " 43%|████▎     | 1.12G/2.59G [00:02<00:03, 493MB/s]\n",
      " 46%|████▌     | 1.18G/2.59G [00:02<00:02, 523MB/s]\n",
      " 48%|████▊     | 1.23G/2.59G [00:02<00:02, 523MB/s]\n",
      " 49%|████▉     | 1.28G/2.59G [00:02<00:02, 484MB/s]\n",
      " 52%|█████▏    | 1.33G/2.59G [00:02<00:02, 509MB/s]\n",
      " 54%|█████▎    | 1.39G/2.59G [00:02<00:02, 522MB/s]\n",
      " 56%|█████▌    | 1.44G/2.59G [00:02<00:02, 505MB/s]\n",
      " 58%|█████▊    | 1.50G/2.59G [00:02<00:02, 529MB/s]\n",
      " 60%|██████    | 1.56G/2.59G [00:03<00:02, 515MB/s]\n",
      " 62%|██████▏   | 1.62G/2.59G [00:03<00:01, 534MB/s]\n",
      " 64%|██████▍   | 1.67G/2.59G [00:03<00:01, 526MB/s]\n",
      " 66%|██████▋   | 1.72G/2.59G [00:03<00:01, 485MB/s]\n",
      " 68%|██████▊   | 1.77G/2.59G [00:03<00:01, 495MB/s]\n",
      " 71%|███████   | 1.83G/2.59G [00:03<00:01, 543MB/s]\n",
      " 73%|███████▎  | 1.88G/2.59G [00:03<00:01, 506MB/s]\n",
      " 75%|███████▌  | 1.95G/2.59G [00:03<00:01, 551MB/s]\n",
      " 77%|███████▋  | 2.00G/2.59G [00:04<00:01, 504MB/s]\n",
      " 79%|███████▉  | 2.05G/2.59G [00:04<00:01, 512MB/s]\n",
      " 81%|████████▏ | 2.11G/2.59G [00:04<00:00, 522MB/s]\n",
      " 83%|████████▎ | 2.16G/2.59G [00:04<00:00, 515MB/s]\n",
      " 85%|████████▌ | 2.21G/2.59G [00:04<00:00, 496MB/s]\n",
      " 87%|████████▋ | 2.26G/2.59G [00:04<00:00, 506MB/s]\n",
      " 89%|████████▉ | 2.32G/2.59G [00:04<00:00, 534MB/s]\n",
      " 91%|█████████▏| 2.37G/2.59G [00:04<00:00, 532MB/s]\n",
      " 93%|█████████▎| 2.42G/2.59G [00:04<00:00, 485MB/s]\n",
      " 95%|█████████▌| 2.47G/2.59G [00:05<00:00, 504MB/s]\n",
      " 97%|█████████▋| 2.52G/2.59G [00:05<00:00, 512MB/s]\n",
      "100%|█████████▉| 2.58G/2.59G [00:05<00:00, 542MB/s]\n",
      "100%|██████████| 2.59G/2.59G [00:05<00:00, 528MB/s]\n"
     ]
    },
    {
     "name": "stdout",
     "output_type": "stream",
     "text": [
      "\n",
      "License(s): Attribution-NonCommercial 4.0 International (CC BY-NC 4.0)\n",
      "Downloading ham1000-segmentation-and-classification.zip to datasets/ham10000_raw\n",
      "\n"
     ]
    }
   ],
   "source": [
    "# download dataset\n",
    "!kaggle datasets download -d surajghuwalewala/ham1000-segmentation-and-classification -p datasets/ham10000_raw --unzip"
   ]
  },
  {
   "cell_type": "code",
   "execution_count": 6,
   "id": "3d8a8e64",
   "metadata": {},
   "outputs": [],
   "source": [
    "# create label\n",
    "df = pd.read_csv(\"datasets/ham10000_raw/GroundTruth.csv\")\n",
    "df[\"label\"] = df[[\"MEL\", \"NV\", \"BCC\", \"AKIEC\", \"BKL\", \"DF\", \"VASC\"]].idxmax(axis=1).str.lower()\n",
    "df = df[df[\"label\"].isin([\"mel\", \"nv\", \"bcc\", \"akiec\", \"bkl\"])].reset_index(drop=True)\n",
    "df[\"file_path\"] = df[\"image\"].apply(lambda x: f\"datasets/ham10000_raw/images/{x}.jpg\")\n"
   ]
  },
  {
   "cell_type": "code",
   "execution_count": 7,
   "id": "ea9b06fa",
   "metadata": {},
   "outputs": [
    {
     "data": {
      "text/html": [
       "<div>\n",
       "<style scoped>\n",
       "    .dataframe tbody tr th:only-of-type {\n",
       "        vertical-align: middle;\n",
       "    }\n",
       "\n",
       "    .dataframe tbody tr th {\n",
       "        vertical-align: top;\n",
       "    }\n",
       "\n",
       "    .dataframe thead th {\n",
       "        text-align: right;\n",
       "    }\n",
       "</style>\n",
       "<table border=\"1\" class=\"dataframe\">\n",
       "  <thead>\n",
       "    <tr style=\"text-align: right;\">\n",
       "      <th></th>\n",
       "      <th>image</th>\n",
       "      <th>MEL</th>\n",
       "      <th>NV</th>\n",
       "      <th>BCC</th>\n",
       "      <th>AKIEC</th>\n",
       "      <th>BKL</th>\n",
       "      <th>DF</th>\n",
       "      <th>VASC</th>\n",
       "      <th>label</th>\n",
       "      <th>file_path</th>\n",
       "    </tr>\n",
       "  </thead>\n",
       "  <tbody>\n",
       "    <tr>\n",
       "      <th>0</th>\n",
       "      <td>ISIC_0024306</td>\n",
       "      <td>0.0</td>\n",
       "      <td>1.0</td>\n",
       "      <td>0.0</td>\n",
       "      <td>0.0</td>\n",
       "      <td>0.0</td>\n",
       "      <td>0.0</td>\n",
       "      <td>0.0</td>\n",
       "      <td>nv</td>\n",
       "      <td>datasets/ham10000_raw/images/ISIC_0024306.jpg</td>\n",
       "    </tr>\n",
       "    <tr>\n",
       "      <th>1</th>\n",
       "      <td>ISIC_0024307</td>\n",
       "      <td>0.0</td>\n",
       "      <td>1.0</td>\n",
       "      <td>0.0</td>\n",
       "      <td>0.0</td>\n",
       "      <td>0.0</td>\n",
       "      <td>0.0</td>\n",
       "      <td>0.0</td>\n",
       "      <td>nv</td>\n",
       "      <td>datasets/ham10000_raw/images/ISIC_0024307.jpg</td>\n",
       "    </tr>\n",
       "    <tr>\n",
       "      <th>2</th>\n",
       "      <td>ISIC_0024308</td>\n",
       "      <td>0.0</td>\n",
       "      <td>1.0</td>\n",
       "      <td>0.0</td>\n",
       "      <td>0.0</td>\n",
       "      <td>0.0</td>\n",
       "      <td>0.0</td>\n",
       "      <td>0.0</td>\n",
       "      <td>nv</td>\n",
       "      <td>datasets/ham10000_raw/images/ISIC_0024308.jpg</td>\n",
       "    </tr>\n",
       "    <tr>\n",
       "      <th>3</th>\n",
       "      <td>ISIC_0024309</td>\n",
       "      <td>0.0</td>\n",
       "      <td>1.0</td>\n",
       "      <td>0.0</td>\n",
       "      <td>0.0</td>\n",
       "      <td>0.0</td>\n",
       "      <td>0.0</td>\n",
       "      <td>0.0</td>\n",
       "      <td>nv</td>\n",
       "      <td>datasets/ham10000_raw/images/ISIC_0024309.jpg</td>\n",
       "    </tr>\n",
       "    <tr>\n",
       "      <th>4</th>\n",
       "      <td>ISIC_0024310</td>\n",
       "      <td>1.0</td>\n",
       "      <td>0.0</td>\n",
       "      <td>0.0</td>\n",
       "      <td>0.0</td>\n",
       "      <td>0.0</td>\n",
       "      <td>0.0</td>\n",
       "      <td>0.0</td>\n",
       "      <td>mel</td>\n",
       "      <td>datasets/ham10000_raw/images/ISIC_0024310.jpg</td>\n",
       "    </tr>\n",
       "  </tbody>\n",
       "</table>\n",
       "</div>"
      ],
      "text/plain": [
       "          image  MEL   NV  BCC  AKIEC  BKL   DF  VASC label  \\\n",
       "0  ISIC_0024306  0.0  1.0  0.0    0.0  0.0  0.0   0.0    nv   \n",
       "1  ISIC_0024307  0.0  1.0  0.0    0.0  0.0  0.0   0.0    nv   \n",
       "2  ISIC_0024308  0.0  1.0  0.0    0.0  0.0  0.0   0.0    nv   \n",
       "3  ISIC_0024309  0.0  1.0  0.0    0.0  0.0  0.0   0.0    nv   \n",
       "4  ISIC_0024310  1.0  0.0  0.0    0.0  0.0  0.0   0.0   mel   \n",
       "\n",
       "                                       file_path  \n",
       "0  datasets/ham10000_raw/images/ISIC_0024306.jpg  \n",
       "1  datasets/ham10000_raw/images/ISIC_0024307.jpg  \n",
       "2  datasets/ham10000_raw/images/ISIC_0024308.jpg  \n",
       "3  datasets/ham10000_raw/images/ISIC_0024309.jpg  \n",
       "4  datasets/ham10000_raw/images/ISIC_0024310.jpg  "
      ]
     },
     "execution_count": 7,
     "metadata": {},
     "output_type": "execute_result"
    }
   ],
   "source": [
    "df.head()"
   ]
  },
  {
   "cell_type": "code",
   "execution_count": 8,
   "id": "71276b9a",
   "metadata": {},
   "outputs": [
    {
     "data": {
      "text/plain": [
       "label\n",
       "nv       6705\n",
       "mel      1113\n",
       "bkl      1099\n",
       "bcc       514\n",
       "akiec     327\n",
       "Name: count, dtype: int64"
      ]
     },
     "execution_count": 8,
     "metadata": {},
     "output_type": "execute_result"
    }
   ],
   "source": [
    "# count total for each target class\n",
    "df[\"label\"] = df[\"label\"].str.lower()\n",
    "\n",
    "target_classes = [\"mel\", \"nv\", \"bcc\", \"bkl\", \"akiec\"]\n",
    "\n",
    "df = df[df[\"label\"].isin(target_classes)].reset_index(drop=True)\n",
    "\n",
    "df[\"label\"].value_counts()"
   ]
  },
  {
   "cell_type": "markdown",
   "id": "fb7f8a95",
   "metadata": {},
   "source": [
    "### Phase 1 Prep"
   ]
  },
  {
   "cell_type": "code",
   "execution_count": 10,
   "id": "463d857c",
   "metadata": {},
   "outputs": [],
   "source": [
    "# targeted data augmentation and save it\n",
    "aug = ImageDataGenerator(\n",
    "    rotation_range=20,\n",
    "    zoom_range=0.2,\n",
    "    horizontal_flip=True,\n",
    "    brightness_range=[0.8, 1.2],\n",
    "    shear_range=0.15,\n",
    "    fill_mode='nearest'\n",
    ")\n",
    "\n",
    "augmentation_plan = {\n",
    "    \"mel\": 6,\n",
    "    \"bkl\": 6,\n",
    "    \"bcc\": 12,\n",
    "    \"akiec\": 20\n",
    "}\n",
    "\n",
    "augmented_dir = Path(\"datasets/ham10000_augmented\")\n",
    "augmented_dir.mkdir(parents=True, exist_ok=True)\n",
    "\n",
    "for label, times in augmentation_plan.items():\n",
    "    subset = df[df[\"label\"] == label]\n",
    "    save_folder = augmented_dir / label\n",
    "    save_folder.mkdir(parents=True, exist_ok=True)\n",
    "    for _, row in subset.iterrows():\n",
    "        img = load_img(row[\"file_path\"])\n",
    "        img_array = img_to_array(img)\n",
    "        img_array = np.expand_dims(img_array, axis=0)\n",
    "        gen = aug.flow(img_array, batch_size=1)\n",
    "        for i in range(times):\n",
    "            aug_img = next(gen)[0].astype(np.uint8)\n",
    "            save_img(save_folder / f\"{row['image']}_aug{i}.jpg\", aug_img)\n"
   ]
  },
  {
   "cell_type": "code",
   "execution_count": 11,
   "id": "2454f9ce",
   "metadata": {},
   "outputs": [],
   "source": [
    "# copy original + augmented to phase1_prepared/skin_disease/\n",
    "phase1_path = Path(\"datasets/phase1_prepared/skin_disease\")\n",
    "phase1_path.mkdir(parents=True, exist_ok=True)\n",
    "\n",
    "for _, row in df.iterrows():\n",
    "    shutil.copy(row[\"file_path\"], phase1_path / f\"{row['image']}.jpg\")\n",
    "\n",
    "for label in augmentation_plan:\n",
    "    for f in (augmented_dir / label).glob(\"*.jpg\"):\n",
    "        shutil.copy(f, phase1_path / f.name)"
   ]
  },
  {
   "cell_type": "code",
   "execution_count": 12,
   "id": "e24a6d68",
   "metadata": {},
   "outputs": [
    {
     "name": "stdout",
     "output_type": "stream",
     "text": [
      "Done splitting and copying Phase 1 dataset.\n"
     ]
    }
   ],
   "source": [
    "# splitting to 80 10 10\n",
    "image_paths = list(phase1_path.glob(\"*.jpg\"))\n",
    "\n",
    "df_phase1 = pd.DataFrame({\n",
    "    \"file_path\": image_paths,\n",
    "    \"label\": [\"skin\"] * len(image_paths)\n",
    "})\n",
    "\n",
    "train_df, temp_df = train_test_split(df_phase1, test_size=0.2, random_state=42)\n",
    "val_df, test_df = train_test_split(temp_df, test_size=0.5, random_state=42)\n",
    "\n",
    "split_data = [(\"train\", train_df), (\"val\", val_df), (\"test\", test_df)]\n",
    "for split_name, split_df in split_data:\n",
    "    out_dir = Path(f\"datasets/phase1_prepared/{split_name}/skin\")\n",
    "    out_dir.mkdir(parents=True, exist_ok=True)\n",
    "    for _, row in split_df.iterrows():\n",
    "        shutil.copy(row[\"file_path\"], out_dir / row[\"file_path\"].name)\n",
    "\n",
    "print(\"Done splitting and copying Phase 1 dataset.\")"
   ]
  },
  {
   "cell_type": "markdown",
   "id": "89f44762",
   "metadata": {},
   "source": [
    "### Phase 1 Trian Model"
   ]
  },
  {
   "cell_type": "markdown",
   "id": "7f82b9df",
   "metadata": {},
   "source": []
  }
 ],
 "metadata": {
  "kernelspec": {
   "display_name": "fyp-gpu",
   "language": "python",
   "name": "python3"
  },
  "language_info": {
   "codemirror_mode": {
    "name": "ipython",
    "version": 3
   },
   "file_extension": ".py",
   "mimetype": "text/x-python",
   "name": "python",
   "nbconvert_exporter": "python",
   "pygments_lexer": "ipython3",
   "version": "3.9.21"
  }
 },
 "nbformat": 4,
 "nbformat_minor": 5
}
