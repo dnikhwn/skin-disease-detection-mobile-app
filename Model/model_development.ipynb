{
 "cells": [
  {
   "cell_type": "markdown",
   "id": "893ca563",
   "metadata": {},
   "source": [
    "# Skin Disease Detection using Mobile Application\n",
    "## Final Year Project 2\n",
    "Ahmad Daniel Ikhwan Bin Rosli <br>\n",
    "1201103071"
   ]
  },
  {
   "cell_type": "markdown",
   "id": "8c41cd11",
   "metadata": {},
   "source": [
    "### Load dataset"
   ]
  },
  {
   "cell_type": "code",
   "execution_count": null,
   "id": "4e045657",
   "metadata": {},
   "outputs": [],
   "source": [
    "import os\n",
    "import shutil\n",
    "from pathlib import Path\n",
    "import pandas as pd\n",
    "import numpy as np\n",
    "import seaborn as sns\n",
    "import matplotlib.pyplot as plt\n",
    "from sklearn.model_selection import train_test_split\n",
    "from sklearn.metrics import classification_report, confusion_matrix\n",
    "from tensorflow.keras.preprocessing.image import ImageDataGenerator, img_to_array, load_img, save_img\n",
    "from tensorflow.keras.applications import MobileNet, MobileNetV2\n",
    "from tensorflow.keras.models import Model, load_model\n",
    "from tensorflow.keras.layers import Dense, GlobalAveragePooling2D\n",
    "from tensorflow.keras.optimizers import Adam\n",
    "from tensorflow.keras.callbacks import EarlyStopping\n",
    "from tensorflow.keras import backend as K\n"
   ]
  },
  {
   "cell_type": "code",
   "execution_count": null,
   "id": "ff23f914",
   "metadata": {},
   "outputs": [],
   "source": [
    "# kaggle.json path\n",
    "os.environ['PATH'] += os.pathsep + r'C:\\Users\\ADMIN\\AppData\\Roaming\\Microsoft\\Windows\\Recent\\kaggle.json.lnk'"
   ]
  },
  {
   "cell_type": "code",
   "execution_count": null,
   "id": "5bd9ed03",
   "metadata": {},
   "outputs": [
    {
     "name": "stdout",
     "output_type": "stream",
     "text": [
      "Dataset URL: https://www.kaggle.com/datasets/surajghuwalewala/ham1000-segmentation-and-classification"
     ]
    },
    {
     "name": "stderr",
     "output_type": "stream",
     "text": [
      "\n",
      "  0%|          | 0.00/2.59G [00:00<?, ?B/s]\n",
      "  3%|▎         | 70.0M/2.59G [00:00<00:03, 691MB/s]\n",
      "  6%|▌         | 152M/2.59G [00:00<00:03, 757MB/s] \n",
      "  8%|▊         | 225M/2.59G [00:00<00:04, 631MB/s]\n",
      " 11%|█         | 288M/2.59G [00:00<00:03, 640MB/s]\n",
      " 13%|█▎        | 351M/2.59G [00:00<00:04, 547MB/s]\n",
      " 16%|█▌        | 422M/2.59G [00:00<00:03, 597MB/s]\n",
      " 18%|█▊        | 482M/2.59G [00:00<00:03, 573MB/s]\n",
      " 20%|██        | 539M/2.59G [00:00<00:03, 577MB/s]\n",
      " 22%|██▏       | 596M/2.59G [00:01<00:03, 544MB/s]\n",
      " 25%|██▍       | 659M/2.59G [00:01<00:04, 494MB/s]\n",
      " 27%|██▋       | 718M/2.59G [00:01<00:03, 525MB/s]\n",
      " 29%|██▉       | 777M/2.59G [00:01<00:03, 550MB/s]\n",
      " 31%|███▏      | 831M/2.59G [00:01<00:03, 511MB/s]\n",
      " 33%|███▎      | 886M/2.59G [00:01<00:03, 528MB/s]\n",
      " 35%|███▌      | 941M/2.59G [00:01<00:03, 541MB/s]\n",
      " 37%|███▋      | 994M/2.59G [00:01<00:03, 501MB/s]\n",
      " 40%|███▉      | 1.02G/2.59G [00:01<00:03, 518MB/s]\n",
      " 42%|████▏     | 1.08G/2.59G [00:02<00:03, 527MB/s]\n",
      " 43%|████▎     | 1.12G/2.59G [00:02<00:03, 493MB/s]\n",
      " 46%|████▌     | 1.18G/2.59G [00:02<00:02, 523MB/s]\n",
      " 48%|████▊     | 1.23G/2.59G [00:02<00:02, 523MB/s]\n",
      " 49%|████▉     | 1.28G/2.59G [00:02<00:02, 484MB/s]\n",
      " 52%|█████▏    | 1.33G/2.59G [00:02<00:02, 509MB/s]\n",
      " 54%|█████▎    | 1.39G/2.59G [00:02<00:02, 522MB/s]\n",
      " 56%|█████▌    | 1.44G/2.59G [00:02<00:02, 505MB/s]\n",
      " 58%|█████▊    | 1.50G/2.59G [00:02<00:02, 529MB/s]\n",
      " 60%|██████    | 1.56G/2.59G [00:03<00:02, 515MB/s]\n",
      " 62%|██████▏   | 1.62G/2.59G [00:03<00:01, 534MB/s]\n",
      " 64%|██████▍   | 1.67G/2.59G [00:03<00:01, 526MB/s]\n",
      " 66%|██████▋   | 1.72G/2.59G [00:03<00:01, 485MB/s]\n",
      " 68%|██████▊   | 1.77G/2.59G [00:03<00:01, 495MB/s]\n",
      " 71%|███████   | 1.83G/2.59G [00:03<00:01, 543MB/s]\n",
      " 73%|███████▎  | 1.88G/2.59G [00:03<00:01, 506MB/s]\n",
      " 75%|███████▌  | 1.95G/2.59G [00:03<00:01, 551MB/s]\n",
      " 77%|███████▋  | 2.00G/2.59G [00:04<00:01, 504MB/s]\n",
      " 79%|███████▉  | 2.05G/2.59G [00:04<00:01, 512MB/s]\n",
      " 81%|████████▏ | 2.11G/2.59G [00:04<00:00, 522MB/s]\n",
      " 83%|████████▎ | 2.16G/2.59G [00:04<00:00, 515MB/s]\n",
      " 85%|████████▌ | 2.21G/2.59G [00:04<00:00, 496MB/s]\n",
      " 87%|████████▋ | 2.26G/2.59G [00:04<00:00, 506MB/s]\n",
      " 89%|████████▉ | 2.32G/2.59G [00:04<00:00, 534MB/s]\n",
      " 91%|█████████▏| 2.37G/2.59G [00:04<00:00, 532MB/s]\n",
      " 93%|█████████▎| 2.42G/2.59G [00:04<00:00, 485MB/s]\n",
      " 95%|█████████▌| 2.47G/2.59G [00:05<00:00, 504MB/s]\n",
      " 97%|█████████▋| 2.52G/2.59G [00:05<00:00, 512MB/s]\n",
      "100%|█████████▉| 2.58G/2.59G [00:05<00:00, 542MB/s]\n",
      "100%|██████████| 2.59G/2.59G [00:05<00:00, 528MB/s]\n"
     ]
    },
    {
     "name": "stdout",
     "output_type": "stream",
     "text": [
      "\n",
      "License(s): Attribution-NonCommercial 4.0 International (CC BY-NC 4.0)\n",
      "Downloading ham1000-segmentation-and-classification.zip to datasets/ham10000_raw\n",
      "\n"
     ]
    }
   ],
   "source": [
    "# download dataset\n",
    "!kaggle datasets download -d surajghuwalewala/ham1000-segmentation-and-classification -p datasets/ham10000_raw --unzip"
   ]
  },
  {
   "cell_type": "code",
   "execution_count": 2,
   "id": "3d8a8e64",
   "metadata": {},
   "outputs": [],
   "source": [
    "# create label\n",
    "df = pd.read_csv(\"datasets/ham10000_raw/GroundTruth.csv\")\n",
    "df[\"label\"] = df[[\"MEL\", \"NV\", \"BCC\", \"AKIEC\", \"BKL\", \"DF\", \"VASC\"]].idxmax(axis=1).str.lower()\n",
    "df = df[df[\"label\"].isin([\"mel\", \"nv\", \"bcc\", \"akiec\", \"bkl\"])].reset_index(drop=True)\n",
    "df[\"file_path\"] = df[\"image\"].apply(lambda x: f\"datasets/ham10000_raw/images/{x}.jpg\")\n",
    "df_drop = df.drop([\"image\", \"MEL\", \"NV\", \"BCC\", \"AKIEC\", \"BKL\", \"DF\", \"VASC\"], axis=1)\n"
   ]
  },
  {
   "cell_type": "code",
   "execution_count": 3,
   "id": "ea9b06fa",
   "metadata": {},
   "outputs": [
    {
     "data": {
      "text/html": [
       "<div>\n",
       "<style scoped>\n",
       "    .dataframe tbody tr th:only-of-type {\n",
       "        vertical-align: middle;\n",
       "    }\n",
       "\n",
       "    .dataframe tbody tr th {\n",
       "        vertical-align: top;\n",
       "    }\n",
       "\n",
       "    .dataframe thead th {\n",
       "        text-align: right;\n",
       "    }\n",
       "</style>\n",
       "<table border=\"1\" class=\"dataframe\">\n",
       "  <thead>\n",
       "    <tr style=\"text-align: right;\">\n",
       "      <th></th>\n",
       "      <th>label</th>\n",
       "      <th>file_path</th>\n",
       "    </tr>\n",
       "  </thead>\n",
       "  <tbody>\n",
       "    <tr>\n",
       "      <th>0</th>\n",
       "      <td>nv</td>\n",
       "      <td>datasets/ham10000_raw/images/ISIC_0024306.jpg</td>\n",
       "    </tr>\n",
       "    <tr>\n",
       "      <th>1</th>\n",
       "      <td>nv</td>\n",
       "      <td>datasets/ham10000_raw/images/ISIC_0024307.jpg</td>\n",
       "    </tr>\n",
       "    <tr>\n",
       "      <th>2</th>\n",
       "      <td>nv</td>\n",
       "      <td>datasets/ham10000_raw/images/ISIC_0024308.jpg</td>\n",
       "    </tr>\n",
       "    <tr>\n",
       "      <th>3</th>\n",
       "      <td>nv</td>\n",
       "      <td>datasets/ham10000_raw/images/ISIC_0024309.jpg</td>\n",
       "    </tr>\n",
       "    <tr>\n",
       "      <th>4</th>\n",
       "      <td>mel</td>\n",
       "      <td>datasets/ham10000_raw/images/ISIC_0024310.jpg</td>\n",
       "    </tr>\n",
       "  </tbody>\n",
       "</table>\n",
       "</div>"
      ],
      "text/plain": [
       "  label                                      file_path\n",
       "0    nv  datasets/ham10000_raw/images/ISIC_0024306.jpg\n",
       "1    nv  datasets/ham10000_raw/images/ISIC_0024307.jpg\n",
       "2    nv  datasets/ham10000_raw/images/ISIC_0024308.jpg\n",
       "3    nv  datasets/ham10000_raw/images/ISIC_0024309.jpg\n",
       "4   mel  datasets/ham10000_raw/images/ISIC_0024310.jpg"
      ]
     },
     "execution_count": 3,
     "metadata": {},
     "output_type": "execute_result"
    }
   ],
   "source": [
    "df_drop.head()"
   ]
  },
  {
   "cell_type": "code",
   "execution_count": 4,
   "id": "71276b9a",
   "metadata": {},
   "outputs": [
    {
     "data": {
      "text/plain": [
       "label\n",
       "nv       6705\n",
       "mel      1113\n",
       "bkl      1099\n",
       "bcc       514\n",
       "akiec     327\n",
       "Name: count, dtype: int64"
      ]
     },
     "execution_count": 4,
     "metadata": {},
     "output_type": "execute_result"
    }
   ],
   "source": [
    "# count total for each target class\n",
    "df[\"label\"] = df[\"label\"].str.lower()\n",
    "\n",
    "target_classes = [\"mel\", \"nv\", \"bcc\", \"bkl\", \"akiec\"]\n",
    "\n",
    "df = df[df[\"label\"].isin(target_classes)].reset_index(drop=True)\n",
    "\n",
    "df[\"label\"].value_counts()"
   ]
  },
  {
   "cell_type": "markdown",
   "id": "fb7f8a95",
   "metadata": {},
   "source": [
    "### Phase 1 Prep"
   ]
  },
  {
   "cell_type": "code",
   "execution_count": 10,
   "id": "463d857c",
   "metadata": {},
   "outputs": [],
   "source": [
    "# targeted data augmentation and save it\n",
    "aug = ImageDataGenerator(\n",
    "    rotation_range=20,\n",
    "    zoom_range=0.2,\n",
    "    horizontal_flip=True,\n",
    "    brightness_range=[0.8, 1.2],\n",
    "    shear_range=0.15,\n",
    "    fill_mode='nearest'\n",
    ")\n",
    "\n",
    "augmentation_plan = {\n",
    "    \"mel\": 6,\n",
    "    \"bkl\": 6,\n",
    "    \"bcc\": 12,\n",
    "    \"akiec\": 20\n",
    "}\n",
    "\n",
    "augmented_dir = Path(\"datasets/ham10000_augmented\")\n",
    "augmented_dir.mkdir(parents=True, exist_ok=True)\n",
    "\n",
    "for label, times in augmentation_plan.items():\n",
    "    subset = df[df[\"label\"] == label]\n",
    "    save_folder = augmented_dir / label\n",
    "    save_folder.mkdir(parents=True, exist_ok=True)\n",
    "    for _, row in subset.iterrows():\n",
    "        img = load_img(row[\"file_path\"])\n",
    "        img_array = img_to_array(img)\n",
    "        img_array = np.expand_dims(img_array, axis=0)\n",
    "        gen = aug.flow(img_array, batch_size=1)\n",
    "        for i in range(times):\n",
    "            aug_img = next(gen)[0].astype(np.uint8)\n",
    "            save_img(save_folder / f\"{row['image']}_aug{i}.jpg\", aug_img)\n"
   ]
  },
  {
   "cell_type": "code",
   "execution_count": 11,
   "id": "2454f9ce",
   "metadata": {},
   "outputs": [],
   "source": [
    "# copy original + augmented to phase1_prepared/skin_disease/\n",
    "phase1_path = Path(\"datasets/phase1_prepared/skin_disease\")\n",
    "phase1_path.mkdir(parents=True, exist_ok=True)\n",
    "\n",
    "for _, row in df.iterrows():\n",
    "    shutil.copy(row[\"file_path\"], phase1_path / f\"{row['image']}.jpg\")\n",
    "\n",
    "for label in augmentation_plan:\n",
    "    for f in (augmented_dir / label).glob(\"*.jpg\"):\n",
    "        shutil.copy(f, phase1_path / f.name)"
   ]
  },
  {
   "cell_type": "code",
   "execution_count": 12,
   "id": "e24a6d68",
   "metadata": {},
   "outputs": [
    {
     "name": "stdout",
     "output_type": "stream",
     "text": [
      "Done splitting and copying Phase 1 dataset.\n"
     ]
    }
   ],
   "source": [
    "# splitting to 80 10 10\n",
    "image_paths = list(phase1_path.glob(\"*.jpg\"))\n",
    "\n",
    "df_phase1 = pd.DataFrame({\n",
    "    \"file_path\": image_paths,\n",
    "    \"label\": [\"skin\"] * len(image_paths)\n",
    "})\n",
    "\n",
    "train_df, temp_df = train_test_split(df_phase1, test_size=0.2, random_state=42)\n",
    "val_df, test_df = train_test_split(temp_df, test_size=0.5, random_state=42)\n",
    "\n",
    "split_data = [(\"train\", train_df), (\"val\", val_df), (\"test\", test_df)]\n",
    "for split_name, split_df in split_data:\n",
    "    out_dir = Path(f\"datasets/phase1_prepared/{split_name}/skin\")\n",
    "    out_dir.mkdir(parents=True, exist_ok=True)\n",
    "    for _, row in split_df.iterrows():\n",
    "        shutil.copy(row[\"file_path\"], out_dir / row[\"file_path\"].name)\n",
    "\n",
    "print(\"Done splitting and copying Phase 1 dataset.\")"
   ]
  },
  {
   "cell_type": "markdown",
   "id": "89f44762",
   "metadata": {},
   "source": [
    "### Phase 1 Trian Model"
   ]
  },
  {
   "cell_type": "code",
   "execution_count": 6,
   "id": "9893085d",
   "metadata": {},
   "outputs": [
    {
     "name": "stdout",
     "output_type": "stream",
     "text": [
      "Found 28590 images belonging to 1 classes.\n",
      "Found 3574 images belonging to 1 classes.\n",
      "Found 3574 images belonging to 1 classes.\n"
     ]
    }
   ],
   "source": [
    "# create dataloaders\n",
    "IMG_SIZE = (224, 224)\n",
    "BATCH_SIZE = 32\n",
    "base_dir = Path(\"datasets/phase1_prepared\")\n",
    "\n",
    "train_dir = base_dir / \"train\"\n",
    "val_dir = base_dir / \"val\"\n",
    "test_dir = base_dir / \"test\"\n",
    "\n",
    "train_datagen = ImageDataGenerator(rescale=1./255)\n",
    "val_test_datagen = ImageDataGenerator(rescale=1./255)\n",
    "\n",
    "train_gen = train_datagen.flow_from_directory(\n",
    "    directory=train_dir,\n",
    "    target_size=IMG_SIZE,\n",
    "    batch_size=BATCH_SIZE,\n",
    "    class_mode=\"binary\",\n",
    "    shuffle=True\n",
    ")\n",
    "\n",
    "val_gen = val_test_datagen.flow_from_directory(\n",
    "    directory=val_dir,\n",
    "    target_size=IMG_SIZE,\n",
    "    batch_size=BATCH_SIZE,\n",
    "    class_mode=\"binary\",\n",
    "    shuffle=False\n",
    ")\n",
    "\n",
    "test_gen = val_test_datagen.flow_from_directory(\n",
    "    directory=test_dir,\n",
    "    target_size=IMG_SIZE,\n",
    "    batch_size=BATCH_SIZE,\n",
    "    class_mode=\"binary\",\n",
    "    shuffle=False\n",
    ")"
   ]
  },
  {
   "cell_type": "code",
   "execution_count": 57,
   "id": "6363136f",
   "metadata": {},
   "outputs": [
    {
     "name": "stdout",
     "output_type": "stream",
     "text": [
      "Training MobileNet Phase 1...\n",
      "WARNING:tensorflow:Compiled the loaded model, but the compiled metrics have yet to be built. `model.compile_metrics` will be empty until you train or evaluate the model.\n",
      "Epoch 1/50\n",
      "894/894 [==============================] - 122s 135ms/step - loss: 0.0026 - accuracy: 0.9999 - val_loss: 1.7989e-05 - val_accuracy: 1.0000\n",
      "Epoch 2/50\n",
      "894/894 [==============================] - 109s 122ms/step - loss: 9.5024e-06 - accuracy: 1.0000 - val_loss: 4.4349e-06 - val_accuracy: 1.0000\n",
      "Epoch 3/50\n",
      "894/894 [==============================] - 101s 113ms/step - loss: 2.9360e-06 - accuracy: 1.0000 - val_loss: 1.7365e-06 - val_accuracy: 1.0000\n",
      "Epoch 4/50\n",
      "894/894 [==============================] - 96s 108ms/step - loss: 1.2561e-06 - accuracy: 1.0000 - val_loss: 8.2501e-07 - val_accuracy: 1.0000\n",
      "Epoch 5/50\n",
      "894/894 [==============================] - 96s 108ms/step - loss: 6.1748e-07 - accuracy: 1.0000 - val_loss: 4.2833e-07 - val_accuracy: 1.0000\n",
      "Epoch 6/50\n",
      "894/894 [==============================] - 96s 108ms/step - loss: 3.2829e-07 - accuracy: 1.0000 - val_loss: 2.3834e-07 - val_accuracy: 1.0000\n",
      "Epoch 7/50\n",
      "894/894 [==============================] - 94s 106ms/step - loss: 1.8352e-07 - accuracy: 1.0000 - val_loss: 1.3707e-07 - val_accuracy: 1.0000\n",
      "Epoch 8/50\n",
      "894/894 [==============================] - 96s 107ms/step - loss: 1.0659e-07 - accuracy: 1.0000 - val_loss: 8.2291e-08 - val_accuracy: 1.0000\n",
      "Epoch 9/50\n",
      "894/894 [==============================] - 99s 110ms/step - loss: 6.3868e-08 - accuracy: 1.0000 - val_loss: 5.0624e-08 - val_accuracy: 1.0000\n",
      "Epoch 10/50\n",
      "894/894 [==============================] - 96s 107ms/step - loss: 3.9250e-08 - accuracy: 1.0000 - val_loss: 3.1955e-08 - val_accuracy: 1.0000\n",
      "Epoch 11/50\n",
      "894/894 [==============================] - 96s 108ms/step - loss: 2.4860e-08 - accuracy: 1.0000 - val_loss: 2.0825e-08 - val_accuracy: 1.0000\n",
      "Epoch 12/50\n",
      "894/894 [==============================] - 101s 113ms/step - loss: 1.6034e-08 - accuracy: 1.0000 - val_loss: 1.3687e-08 - val_accuracy: 1.0000\n",
      "Epoch 13/50\n",
      "894/894 [==============================] - 99s 111ms/step - loss: 1.0542e-08 - accuracy: 1.0000 - val_loss: 9.2041e-09 - val_accuracy: 1.0000\n",
      "Epoch 14/50\n",
      "894/894 [==============================] - 97s 108ms/step - loss: 7.0790e-09 - accuracy: 1.0000 - val_loss: 6.3551e-09 - val_accuracy: 1.0000\n",
      "Epoch 15/50\n",
      "894/894 [==============================] - 99s 111ms/step - loss: 4.8207e-09 - accuracy: 1.0000 - val_loss: 4.4253e-09 - val_accuracy: 1.0000\n",
      "Epoch 16/50\n",
      "894/894 [==============================] - 100s 112ms/step - loss: 3.3604e-09 - accuracy: 1.0000 - val_loss: 3.1573e-09 - val_accuracy: 1.0000\n",
      "Epoch 17/50\n",
      "894/894 [==============================] - 97s 108ms/step - loss: 2.3833e-09 - accuracy: 1.0000 - val_loss: 2.2721e-09 - val_accuracy: 1.0000\n",
      "Epoch 18/50\n",
      "894/894 [==============================] - 101s 113ms/step - loss: 1.7199e-09 - accuracy: 1.0000 - val_loss: 1.6880e-09 - val_accuracy: 1.0000\n",
      "Epoch 19/50\n",
      "894/894 [==============================] - 97s 108ms/step - loss: 1.2804e-09 - accuracy: 1.0000 - val_loss: 1.2784e-09 - val_accuracy: 1.0000\n",
      "Epoch 20/50\n",
      "894/894 [==============================] - 98s 110ms/step - loss: 9.6556e-10 - accuracy: 1.0000 - val_loss: 9.8431e-10 - val_accuracy: 1.0000\n",
      "Epoch 21/50\n",
      "894/894 [==============================] - 101s 113ms/step - loss: 7.4735e-10 - accuracy: 1.0000 - val_loss: 7.8065e-10 - val_accuracy: 1.0000\n",
      "Epoch 22/50\n",
      "894/894 [==============================] - 97s 108ms/step - loss: 5.9236e-10 - accuracy: 1.0000 - val_loss: 6.2854e-10 - val_accuracy: 1.0000\n",
      "Epoch 23/50\n",
      "894/894 [==============================] - 101s 112ms/step - loss: 4.7803e-10 - accuracy: 1.0000 - val_loss: 5.1696e-10 - val_accuracy: 1.0000\n",
      "Epoch 24/50\n",
      "894/894 [==============================] - 99s 110ms/step - loss: 3.9408e-10 - accuracy: 1.0000 - val_loss: 4.3174e-10 - val_accuracy: 1.0000\n",
      "Epoch 25/50\n",
      "894/894 [==============================] - 97s 108ms/step - loss: 3.3034e-10 - accuracy: 1.0000 - val_loss: 3.6709e-10 - val_accuracy: 1.0000\n",
      "Epoch 26/50\n",
      "894/894 [==============================] - 97s 108ms/step - loss: 2.8145e-10 - accuracy: 1.0000 - val_loss: 3.1700e-10 - val_accuracy: 1.0000\n",
      "Epoch 27/50\n",
      "894/894 [==============================] - 99s 111ms/step - loss: 2.4316e-10 - accuracy: 1.0000 - val_loss: 2.7682e-10 - val_accuracy: 1.0000\n",
      "Epoch 28/50\n",
      "894/894 [==============================] - 97s 109ms/step - loss: 2.1270e-10 - accuracy: 1.0000 - val_loss: 2.4502e-10 - val_accuracy: 1.0000\n",
      "Epoch 29/50\n",
      "894/894 [==============================] - 96s 108ms/step - loss: 1.8831e-10 - accuracy: 1.0000 - val_loss: 2.1900e-10 - val_accuracy: 1.0000\n",
      "Epoch 30/50\n",
      "894/894 [==============================] - 98s 110ms/step - loss: 1.6846e-10 - accuracy: 1.0000 - val_loss: 1.9768e-10 - val_accuracy: 1.0000\n",
      "Epoch 31/50\n",
      "894/894 [==============================] - 96s 108ms/step - loss: 1.5212e-10 - accuracy: 1.0000 - val_loss: 1.8092e-10 - val_accuracy: 1.0000\n",
      "Epoch 32/50\n",
      "894/894 [==============================] - 98s 110ms/step - loss: 1.3844e-10 - accuracy: 1.0000 - val_loss: 1.6494e-10 - val_accuracy: 1.0000\n",
      "Epoch 33/50\n",
      "894/894 [==============================] - 97s 108ms/step - loss: 1.2688e-10 - accuracy: 1.0000 - val_loss: 1.5226e-10 - val_accuracy: 1.0000\n",
      "Epoch 34/50\n",
      "894/894 [==============================] - 98s 109ms/step - loss: 1.1709e-10 - accuracy: 1.0000 - val_loss: 1.4121e-10 - val_accuracy: 1.0000\n",
      "Epoch 35/50\n",
      "894/894 [==============================] - 98s 110ms/step - loss: 1.0858e-10 - accuracy: 1.0000 - val_loss: 1.3177e-10 - val_accuracy: 1.0000\n",
      "Epoch 36/50\n",
      "894/894 [==============================] - 97s 109ms/step - loss: 1.0126e-10 - accuracy: 1.0000 - val_loss: 1.2343e-10 - val_accuracy: 1.0000\n",
      "Epoch 37/50\n",
      "894/894 [==============================] - 99s 110ms/step - loss: 9.4917e-11 - accuracy: 1.0000 - val_loss: 1.1611e-10 - val_accuracy: 1.0000\n",
      "Epoch 38/50\n",
      "894/894 [==============================] - 106s 119ms/step - loss: 8.9182e-11 - accuracy: 1.0000 - val_loss: 1.0964e-10 - val_accuracy: 1.0000\n",
      "Epoch 39/50\n",
      "894/894 [==============================] - 102s 114ms/step - loss: 8.4133e-11 - accuracy: 1.0000 - val_loss: 1.0378e-10 - val_accuracy: 1.0000\n",
      "Epoch 40/50\n",
      "894/894 [==============================] - 96s 107ms/step - loss: 7.9642e-11 - accuracy: 1.0000 - val_loss: 9.8610e-11 - val_accuracy: 1.0000\n",
      "Epoch 41/50\n",
      "894/894 [==============================] - 96s 107ms/step - loss: 7.5585e-11 - accuracy: 1.0000 - val_loss: 9.3848e-11 - val_accuracy: 1.0000\n",
      "Epoch 42/50\n",
      "894/894 [==============================] - 97s 109ms/step - loss: 7.1937e-11 - accuracy: 1.0000 - val_loss: 8.9573e-11 - val_accuracy: 1.0000\n",
      "Epoch 43/50\n",
      "894/894 [==============================] - 96s 108ms/step - loss: 6.8587e-11 - accuracy: 1.0000 - val_loss: 8.5637e-11 - val_accuracy: 1.0000\n",
      "Epoch 44/50\n",
      "894/894 [==============================] - 97s 108ms/step - loss: 6.5540e-11 - accuracy: 1.0000 - val_loss: 8.2068e-11 - val_accuracy: 1.0000\n",
      "Epoch 45/50\n",
      "894/894 [==============================] - 97s 108ms/step - loss: 6.2776e-11 - accuracy: 1.0000 - val_loss: 7.8779e-11 - val_accuracy: 1.0000\n",
      "Epoch 46/50\n",
      "894/894 [==============================] - 97s 108ms/step - loss: 6.0208e-11 - accuracy: 1.0000 - val_loss: 7.5734e-11 - val_accuracy: 1.0000\n",
      "Epoch 47/50\n",
      "894/894 [==============================] - 96s 107ms/step - loss: 5.7843e-11 - accuracy: 1.0000 - val_loss: 7.2922e-11 - val_accuracy: 1.0000\n",
      "Epoch 48/50\n",
      "894/894 [==============================] - 96s 107ms/step - loss: 5.5656e-11 - accuracy: 1.0000 - val_loss: 7.0310e-11 - val_accuracy: 1.0000\n",
      "Epoch 49/50\n",
      "894/894 [==============================] - 96s 107ms/step - loss: 5.3634e-11 - accuracy: 1.0000 - val_loss: 6.7925e-11 - val_accuracy: 1.0000\n",
      "Epoch 50/50\n",
      "894/894 [==============================] - 96s 108ms/step - loss: 5.1754e-11 - accuracy: 1.0000 - val_loss: 6.5624e-11 - val_accuracy: 1.0000\n"
     ]
    }
   ],
   "source": [
    "# mobilenet\n",
    "print(\"Training MobileNet Phase 1...\")\n",
    "\n",
    "base_model = MobileNet(weights='imagenet', include_top=False, input_shape=(224, 224, 3))\n",
    "\n",
    "base_model.save(\"mobilenet_base_no_top.h5\")\n",
    "\n",
    "x = GlobalAveragePooling2D()(base_model.output)\n",
    "x = Dense(128, activation='relu')(x)\n",
    "preds = Dense(1, activation='sigmoid')(x)\n",
    "\n",
    "model = Model(inputs=base_model.input, outputs=preds)\n",
    "\n",
    "for layer in base_model.layers:\n",
    "    layer.trainable = False\n",
    "\n",
    "model.compile(optimizer=Adam(1e-4), loss='binary_crossentropy', metrics=['accuracy'])\n",
    "\n",
    "early_stop = EarlyStopping(patience=10, restore_best_weights=True, verbose=1)\n",
    "\n",
    "history_mobilenet_phase1 = model.fit(\n",
    "    train_gen,\n",
    "    validation_data=val_gen,\n",
    "    epochs=50,\n",
    "    callbacks=[early_stop]\n",
    ")\n",
    "\n",
    "model.save(\"mobilenet_phase1_binary.h5\")\n",
    "K.clear_session()"
   ]
  },
  {
   "cell_type": "code",
   "execution_count": 58,
   "id": "1d3181de",
   "metadata": {},
   "outputs": [
    {
     "name": "stdout",
     "output_type": "stream",
     "text": [
      "Training MobileNetV2 Phase 1...\n",
      "WARNING:tensorflow:Compiled the loaded model, but the compiled metrics have yet to be built. `model.compile_metrics` will be empty until you train or evaluate the model.\n",
      "Epoch 1/50\n",
      "894/894 [==============================] - 101s 110ms/step - loss: 0.0029 - accuracy: 0.9996 - val_loss: 2.6428e-05 - val_accuracy: 1.0000\n",
      "Epoch 2/50\n",
      "894/894 [==============================] - 98s 110ms/step - loss: 1.4322e-05 - accuracy: 1.0000 - val_loss: 6.8258e-06 - val_accuracy: 1.0000\n",
      "Epoch 3/50\n",
      "894/894 [==============================] - 100s 112ms/step - loss: 4.7422e-06 - accuracy: 1.0000 - val_loss: 2.8172e-06 - val_accuracy: 1.0000\n",
      "Epoch 4/50\n",
      "894/894 [==============================] - 100s 112ms/step - loss: 2.1559e-06 - accuracy: 1.0000 - val_loss: 1.3870e-06 - val_accuracy: 1.0000\n",
      "Epoch 5/50\n",
      "894/894 [==============================] - 101s 113ms/step - loss: 1.1190e-06 - accuracy: 1.0000 - val_loss: 7.4553e-07 - val_accuracy: 1.0000\n",
      "Epoch 6/50\n",
      "894/894 [==============================] - 102s 114ms/step - loss: 6.2152e-07 - accuracy: 1.0000 - val_loss: 4.2117e-07 - val_accuracy: 1.0000\n",
      "Epoch 7/50\n",
      "894/894 [==============================] - 99s 111ms/step - loss: 3.5940e-07 - accuracy: 1.0000 - val_loss: 2.4507e-07 - val_accuracy: 1.0000\n",
      "Epoch 8/50\n",
      "894/894 [==============================] - 99s 111ms/step - loss: 2.1326e-07 - accuracy: 1.0000 - val_loss: 1.4577e-07 - val_accuracy: 1.0000\n",
      "Epoch 9/50\n",
      "894/894 [==============================] - 98s 110ms/step - loss: 1.2882e-07 - accuracy: 1.0000 - val_loss: 8.7874e-08 - val_accuracy: 1.0000\n",
      "Epoch 10/50\n",
      "894/894 [==============================] - 98s 110ms/step - loss: 7.8852e-08 - accuracy: 1.0000 - val_loss: 5.3816e-08 - val_accuracy: 1.0000\n",
      "Epoch 11/50\n",
      "894/894 [==============================] - 100s 112ms/step - loss: 4.8846e-08 - accuracy: 1.0000 - val_loss: 3.3150e-08 - val_accuracy: 1.0000\n",
      "Epoch 12/50\n",
      "894/894 [==============================] - 99s 111ms/step - loss: 3.0578e-08 - accuracy: 1.0000 - val_loss: 2.0682e-08 - val_accuracy: 1.0000\n",
      "Epoch 13/50\n",
      "894/894 [==============================] - 99s 110ms/step - loss: 1.9335e-08 - accuracy: 1.0000 - val_loss: 1.3028e-08 - val_accuracy: 1.0000\n",
      "Epoch 14/50\n",
      "894/894 [==============================] - 99s 111ms/step - loss: 1.2384e-08 - accuracy: 1.0000 - val_loss: 8.3254e-09 - val_accuracy: 1.0000\n",
      "Epoch 15/50\n",
      "894/894 [==============================] - 98s 110ms/step - loss: 8.0444e-09 - accuracy: 1.0000 - val_loss: 5.4093e-09 - val_accuracy: 1.0000\n",
      "Epoch 16/50\n",
      "894/894 [==============================] - 98s 110ms/step - loss: 5.3177e-09 - accuracy: 1.0000 - val_loss: 3.5775e-09 - val_accuracy: 1.0000\n",
      "Epoch 17/50\n",
      "894/894 [==============================] - 99s 110ms/step - loss: 3.5922e-09 - accuracy: 1.0000 - val_loss: 2.4185e-09 - val_accuracy: 1.0000\n",
      "Epoch 18/50\n",
      "894/894 [==============================] - 99s 110ms/step - loss: 2.4771e-09 - accuracy: 1.0000 - val_loss: 1.6763e-09 - val_accuracy: 1.0000\n",
      "Epoch 19/50\n",
      "894/894 [==============================] - 99s 110ms/step - loss: 1.7507e-09 - accuracy: 1.0000 - val_loss: 1.1893e-09 - val_accuracy: 1.0000\n",
      "Epoch 20/50\n",
      "894/894 [==============================] - 100s 112ms/step - loss: 1.2709e-09 - accuracy: 1.0000 - val_loss: 8.6767e-10 - val_accuracy: 1.0000\n",
      "Epoch 21/50\n",
      "894/894 [==============================] - 99s 111ms/step - loss: 9.4764e-10 - accuracy: 1.0000 - val_loss: 6.5103e-10 - val_accuracy: 1.0000\n",
      "Epoch 22/50\n",
      "894/894 [==============================] - 99s 110ms/step - loss: 7.2504e-10 - accuracy: 1.0000 - val_loss: 5.0073e-10 - val_accuracy: 1.0000\n",
      "Epoch 23/50\n",
      "894/894 [==============================] - 99s 111ms/step - loss: 5.6883e-10 - accuracy: 1.0000 - val_loss: 3.9537e-10 - val_accuracy: 1.0000\n",
      "Epoch 24/50\n",
      "894/894 [==============================] - 99s 111ms/step - loss: 4.5679e-10 - accuracy: 1.0000 - val_loss: 3.1858e-10 - val_accuracy: 1.0000\n",
      "Epoch 25/50\n",
      "894/894 [==============================] - 109s 122ms/step - loss: 3.7459e-10 - accuracy: 1.0000 - val_loss: 2.6269e-10 - val_accuracy: 1.0000\n",
      "Epoch 26/50\n",
      "894/894 [==============================] - 103s 116ms/step - loss: 3.1321e-10 - accuracy: 1.0000 - val_loss: 2.2040e-10 - val_accuracy: 1.0000\n",
      "Epoch 27/50\n",
      "894/894 [==============================] - 97s 109ms/step - loss: 2.6636e-10 - accuracy: 1.0000 - val_loss: 1.8808e-10 - val_accuracy: 1.0000\n",
      "Epoch 28/50\n",
      "894/894 [==============================] - 98s 110ms/step - loss: 2.3013e-10 - accuracy: 1.0000 - val_loss: 1.6293e-10 - val_accuracy: 1.0000\n",
      "Epoch 29/50\n",
      "894/894 [==============================] - 98s 109ms/step - loss: 2.0155e-10 - accuracy: 1.0000 - val_loss: 1.4307e-10 - val_accuracy: 1.0000\n",
      "Epoch 30/50\n",
      "894/894 [==============================] - 98s 109ms/step - loss: 1.7865e-10 - accuracy: 1.0000 - val_loss: 1.2716e-10 - val_accuracy: 1.0000\n",
      "Epoch 31/50\n",
      "894/894 [==============================] - 99s 111ms/step - loss: 1.6000e-10 - accuracy: 1.0000 - val_loss: 1.1391e-10 - val_accuracy: 1.0000\n",
      "Epoch 32/50\n",
      "894/894 [==============================] - 100s 111ms/step - loss: 1.4465e-10 - accuracy: 1.0000 - val_loss: 1.0319e-10 - val_accuracy: 1.0000\n",
      "Epoch 33/50\n",
      "894/894 [==============================] - 99s 110ms/step - loss: 1.3185e-10 - accuracy: 1.0000 - val_loss: 9.4033e-11 - val_accuracy: 1.0000\n",
      "Epoch 34/50\n",
      "894/894 [==============================] - 98s 110ms/step - loss: 1.2107e-10 - accuracy: 1.0000 - val_loss: 8.6419e-11 - val_accuracy: 1.0000\n",
      "Epoch 35/50\n",
      "894/894 [==============================] - 99s 111ms/step - loss: 1.1188e-10 - accuracy: 1.0000 - val_loss: 7.9868e-11 - val_accuracy: 1.0000\n",
      "Epoch 36/50\n",
      "894/894 [==============================] - 98s 109ms/step - loss: 1.0396e-10 - accuracy: 1.0000 - val_loss: 7.4233e-11 - val_accuracy: 1.0000\n",
      "Epoch 37/50\n",
      "894/894 [==============================] - 100s 112ms/step - loss: 9.7073e-11 - accuracy: 1.0000 - val_loss: 6.9321e-11 - val_accuracy: 1.0000\n",
      "Epoch 38/50\n",
      "894/894 [==============================] - 98s 109ms/step - loss: 9.1039e-11 - accuracy: 1.0000 - val_loss: 6.5031e-11 - val_accuracy: 1.0000\n",
      "Epoch 39/50\n",
      "894/894 [==============================] - 100s 112ms/step - loss: 8.5710e-11 - accuracy: 1.0000 - val_loss: 6.1186e-11 - val_accuracy: 1.0000\n",
      "Epoch 40/50\n",
      "894/894 [==============================] - 98s 110ms/step - loss: 8.0973e-11 - accuracy: 1.0000 - val_loss: 5.7770e-11 - val_accuracy: 1.0000\n",
      "Epoch 41/50\n",
      "894/894 [==============================] - 99s 111ms/step - loss: 7.6733e-11 - accuracy: 1.0000 - val_loss: 5.4724e-11 - val_accuracy: 1.0000\n",
      "Epoch 42/50\n",
      "894/894 [==============================] - 98s 110ms/step - loss: 7.2911e-11 - accuracy: 1.0000 - val_loss: 5.1971e-11 - val_accuracy: 1.0000\n",
      "Epoch 43/50\n",
      "894/894 [==============================] - 98s 109ms/step - loss: 6.9455e-11 - accuracy: 1.0000 - val_loss: 4.9476e-11 - val_accuracy: 1.0000\n",
      "Epoch 44/50\n",
      "894/894 [==============================] - 99s 111ms/step - loss: 6.6307e-11 - accuracy: 1.0000 - val_loss: 4.7241e-11 - val_accuracy: 1.0000\n",
      "Epoch 45/50\n",
      "894/894 [==============================] - 99s 111ms/step - loss: 6.3436e-11 - accuracy: 1.0000 - val_loss: 4.5138e-11 - val_accuracy: 1.0000\n",
      "Epoch 46/50\n",
      "894/894 [==============================] - 99s 110ms/step - loss: 6.0805e-11 - accuracy: 1.0000 - val_loss: 4.3240e-11 - val_accuracy: 1.0000\n",
      "Epoch 47/50\n",
      "894/894 [==============================] - 100s 111ms/step - loss: 5.8384e-11 - accuracy: 1.0000 - val_loss: 4.1527e-11 - val_accuracy: 1.0000\n",
      "Epoch 48/50\n",
      "894/894 [==============================] - 98s 110ms/step - loss: 5.6152e-11 - accuracy: 1.0000 - val_loss: 3.9880e-11 - val_accuracy: 1.0000\n",
      "Epoch 49/50\n",
      "894/894 [==============================] - 98s 109ms/step - loss: 5.4085e-11 - accuracy: 1.0000 - val_loss: 3.8385e-11 - val_accuracy: 1.0000\n",
      "Epoch 50/50\n",
      "894/894 [==============================] - 99s 111ms/step - loss: 5.2164e-11 - accuracy: 1.0000 - val_loss: 3.6996e-11 - val_accuracy: 1.0000\n"
     ]
    }
   ],
   "source": [
    "# mobilenetv2\n",
    "print(\"Training MobileNetV2 Phase 1...\")\n",
    "\n",
    "base_model_v2 = MobileNetV2(weights='imagenet', include_top=False, input_shape=(224, 224, 3))\n",
    "\n",
    "base_model_v2.save(\"mobilenetv2_base_no_top.h5\")\n",
    "\n",
    "x = GlobalAveragePooling2D()(base_model_v2.output)\n",
    "x = Dense(128, activation='relu')(x)\n",
    "preds = Dense(1, activation='sigmoid')(x)\n",
    "\n",
    "model_v2 = Model(inputs=base_model_v2.input, outputs=preds)\n",
    "\n",
    "for layer in base_model_v2.layers:\n",
    "    layer.trainable = False\n",
    "\n",
    "model_v2.compile(optimizer=Adam(1e-4), loss='binary_crossentropy', metrics=['accuracy'])\n",
    "\n",
    "early_stop = EarlyStopping(patience=10, restore_best_weights=True, verbose=1)\n",
    "\n",
    "history_mobilenetv2_phase1 = model_v2.fit(\n",
    "    train_gen,\n",
    "    validation_data=val_gen,\n",
    "    epochs=50,\n",
    "    callbacks=[early_stop]\n",
    ")\n",
    "\n",
    "model_v2.save(\"mobilenetv2_phase1_binary.h5\")\n",
    "K.clear_session()"
   ]
  },
  {
   "cell_type": "markdown",
   "id": "9b832bd7",
   "metadata": {},
   "source": [
    "### Phase 1 Compare"
   ]
  },
  {
   "cell_type": "code",
   "execution_count": 7,
   "id": "b8966630",
   "metadata": {},
   "outputs": [],
   "source": [
    "# load model to compare\n",
    "mobilenet = load_model(\"mobilenet_phase1_binary.h5\")\n",
    "mobilenetv2 = load_model(\"mobilenetv2_phase1_binary.h5\")\n",
    "\n",
    "test_loss_mn, test_acc_mn = mobilenet.evaluate(test_gen, verbose=0)\n",
    "test_loss_mn2, test_acc_mn2 = mobilenetv2.evaluate(test_gen, verbose=0)"
   ]
  },
  {
   "cell_type": "code",
   "execution_count": 8,
   "id": "9b9a9ad8",
   "metadata": {},
   "outputs": [
    {
     "data": {
      "text/plain": [
       "Text(0, 0.5, 'Accuracy')"
      ]
     },
     "execution_count": 8,
     "metadata": {},
     "output_type": "execute_result"
    },
    {
     "data": {
      "image/png": "[encoded data removed]",
      "text/plain": [
       "<Figure size 640x480 with 1 Axes>"
      ]
     },
     "metadata": {},
     "output_type": "display_data"
    }
   ],
   "source": [
    "# accuracy\n",
    "plt.bar([\"MobileNet\", \"MobileNetV2\"], [test_acc_mn, test_acc_mn2], color=[\"red\", \"blue\"])\n",
    "plt.title(\"Test Accuracy\")\n",
    "plt.ylim(0, 1)\n",
    "plt.ylabel(\"Accuracy\")\n"
   ]
  },
  {
   "cell_type": "code",
   "execution_count": 9,
   "id": "dc683de8",
   "metadata": {},
   "outputs": [
    {
     "data": {
      "text/plain": [
       "Text(0, 0.5, 'Loss')"
      ]
     },
     "execution_count": 9,
     "metadata": {},
     "output_type": "execute_result"
    },
    {
     "data": {
      "image/png": "[encoded data removed]",
      "text/plain": [
       "<Figure size 640x480 with 1 Axes>"
      ]
     },
     "metadata": {},
     "output_type": "display_data"
    }
   ],
   "source": [
    "# loss\n",
    "plt.bar([\"MobileNet\", \"MobileNetV2\"], [test_loss_mn, test_loss_mn2], color=[\"red\", \"blue\"])\n",
    "plt.title(\"Test Loss\")\n",
    "plt.ylabel(\"Loss\")\n"
   ]
  },
  {
   "cell_type": "markdown",
   "id": "474b292f",
   "metadata": {},
   "source": [
    "### Phase 2 Prep"
   ]
  },
  {
   "cell_type": "code",
   "execution_count": null,
   "id": "afa3ce62",
   "metadata": {},
   "outputs": [],
   "source": [
    "augmented_dir = Path(\"datasets/ham10000_augmented\")\n",
    "\n",
    "augmented_image_paths = []\n",
    "augmented_labels = []\n",
    "\n",
    "for label_dir in augmented_dir.iterdir():\n",
    "    if label_dir.is_dir():\n",
    "        for img_path in label_dir.glob(\"*.jpg\"):\n",
    "            augmented_image_paths.append(img_path)\n",
    "            augmented_labels.append(label_dir.name)\n",
    "\n",
    "df_augmented = pd.DataFrame({\n",
    "    \"label\": augmented_labels,\n",
    "    \"file_path\": augmented_image_paths\n",
    "})\n",
    "\n",
    "print(f\"Augmented data count per class:\\n{df_augmented['label'].value_counts()}\")"
   ]
  },
  {
   "cell_type": "code",
   "execution_count": null,
   "id": "692f7dcd",
   "metadata": {},
   "outputs": [],
   "source": [
    "df_drop[\"label\"] = df_drop[\"label\"].str.lower()\n",
    "\n",
    "target_classes = [\"nv\"]\n",
    "\n",
    "df_nv = df_drop[df_drop[\"label\"].isin(target_classes)].reset_index(drop=True)\n",
    "\n",
    "print(f\"nv data count:\\n{df_nv['label'].value_counts()}\")"
   ]
  },
  {
   "cell_type": "code",
   "execution_count": null,
   "id": "f58f5c7a",
   "metadata": {},
   "outputs": [],
   "source": [
    "df_augmented.head()"
   ]
  },
  {
   "cell_type": "code",
   "execution_count": null,
   "id": "82e24497",
   "metadata": {},
   "outputs": [],
   "source": [
    "df_nv.head()"
   ]
  },
  {
   "cell_type": "code",
   "execution_count": null,
   "id": "d5dbf3ab",
   "metadata": {},
   "outputs": [],
   "source": [
    "df_combined = pd.concat([df_nv, df_augmented], ignore_index=True)\n",
    "print(df_combined['label'].value_counts())\n"
   ]
  },
  {
   "cell_type": "code",
   "execution_count": null,
   "id": "981140b6",
   "metadata": {},
   "outputs": [],
   "source": [
    "train_df, temp_df = train_test_split(df_combined, test_size=0.2, stratify=df_combined[\"label\"], random_state=42)\n",
    "\n",
    "val_df, test_df = train_test_split(temp_df, test_size=0.5, stratify=temp_df[\"label\"], random_state=42)\n",
    "\n",
    "print(\"Train:\", train_df.shape)\n",
    "print(\"Val:\", val_df.shape)\n",
    "print(\"Test:\", test_df.shape)\n",
    "\n",
    "print(\"\\nTrain Distribution:\\n\", train_df[\"label\"].value_counts())\n",
    "print(\"\\nVal Distribution:\\n\", val_df[\"label\"].value_counts())\n",
    "print(\"\\nTest Distribution:\\n\", test_df[\"label\"].value_counts())"
   ]
  },
  {
   "cell_type": "code",
   "execution_count": null,
   "id": "c43dd338",
   "metadata": {},
   "outputs": [],
   "source": [
    "# copy target classes to new directory\n",
    "output_dir = Path(\"datasets/phase2_prepared\")\n",
    "splits = [(\"train\", train_df), (\"val\", val_df), (\"test\", test_df)]\n",
    "\n",
    "for split_name, df_split in splits:\n",
    "    for _, row in df_split.iterrows():\n",
    "        label = row[\"label\"]\n",
    "        src = row[\"file_path\"]\n",
    "        dst = output_dir / split_name / label\n",
    "        dst.mkdir(parents=True, exist_ok=True)\n",
    "        shutil.copy(src, dst / Path(src).name)\n",
    "\n",
    "print(\"All images copied to datasets/phase2_prepared\")"
   ]
  },
  {
   "cell_type": "markdown",
   "id": "4139fbbc",
   "metadata": {},
   "source": [
    "### Phase 2 Train Model"
   ]
  },
  {
   "cell_type": "code",
   "execution_count": 10,
   "id": "29bf5d8f",
   "metadata": {},
   "outputs": [
    {
     "name": "stdout",
     "output_type": "stream",
     "text": [
      "Found 26148 images belonging to 5 classes.\n",
      "Found 3268 images belonging to 5 classes.\n",
      "Found 3269 images belonging to 5 classes.\n"
     ]
    }
   ],
   "source": [
    "# create dataloaders\n",
    "IMG_SIZE = (224, 224)\n",
    "BATCH_SIZE = 32\n",
    "phase2_dir = Path(\"datasets/phase2_prepared\")\n",
    "\n",
    "train_datagen = ImageDataGenerator(rescale=1./255)\n",
    "val_test_datagen = ImageDataGenerator(rescale=1./255)\n",
    "\n",
    "train_gen = train_datagen.flow_from_directory(\n",
    "    directory=phase2_dir / \"train\",\n",
    "    target_size=IMG_SIZE,\n",
    "    batch_size=BATCH_SIZE,\n",
    "    class_mode=\"categorical\",   \n",
    "    shuffle=True\n",
    ")\n",
    "\n",
    "val_gen = val_test_datagen.flow_from_directory(\n",
    "    directory=phase2_dir / \"val\",\n",
    "    target_size=IMG_SIZE,\n",
    "    batch_size=BATCH_SIZE,\n",
    "    class_mode=\"categorical\",\n",
    "    shuffle=False\n",
    ")\n",
    "\n",
    "test_gen = val_test_datagen.flow_from_directory(\n",
    "    directory=phase2_dir / \"test\",\n",
    "    target_size=IMG_SIZE,\n",
    "    batch_size=BATCH_SIZE,\n",
    "    class_mode=\"categorical\",\n",
    "    shuffle=False\n",
    ")"
   ]
  },
  {
   "cell_type": "code",
   "execution_count": 12,
   "id": "1b72af73",
   "metadata": {},
   "outputs": [
    {
     "name": "stdout",
     "output_type": "stream",
     "text": [
      "Training MobileNet Phase 2...\n",
      "WARNING:tensorflow:No training configuration found in the save file, so the model was *not* compiled. Compile it manually.\n",
      "Epoch 1/50\n",
      "818/818 [==============================] - 338s 411ms/step - loss: 1.0232 - accuracy: 0.5938 - val_loss: 0.8215 - val_accuracy: 0.6870\n",
      "Epoch 2/50\n",
      "818/818 [==============================] - 161s 197ms/step - loss: 0.7341 - accuracy: 0.7193 - val_loss: 0.6927 - val_accuracy: 0.7338\n",
      "Epoch 3/50\n",
      "818/818 [==============================] - 161s 197ms/step - loss: 0.6320 - accuracy: 0.7650 - val_loss: 0.6281 - val_accuracy: 0.7580\n",
      "Epoch 4/50\n",
      "818/818 [==============================] - 161s 197ms/step - loss: 0.5649 - accuracy: 0.7920 - val_loss: 0.5839 - val_accuracy: 0.7794\n",
      "Epoch 5/50\n",
      "818/818 [==============================] - 161s 197ms/step - loss: 0.5136 - accuracy: 0.8154 - val_loss: 0.5426 - val_accuracy: 0.7944\n",
      "Epoch 6/50\n",
      "818/818 [==============================] - 161s 197ms/step - loss: 0.4751 - accuracy: 0.8315 - val_loss: 0.5098 - val_accuracy: 0.8143\n",
      "Epoch 7/50\n",
      "818/818 [==============================] - 161s 197ms/step - loss: 0.4385 - accuracy: 0.8483 - val_loss: 0.4827 - val_accuracy: 0.8207\n",
      "Epoch 8/50\n",
      "818/818 [==============================] - 161s 197ms/step - loss: 0.4085 - accuracy: 0.8605 - val_loss: 0.4602 - val_accuracy: 0.8329\n",
      "Epoch 9/50\n",
      "818/818 [==============================] - 161s 197ms/step - loss: 0.3818 - accuracy: 0.8705 - val_loss: 0.4493 - val_accuracy: 0.8384\n",
      "Epoch 10/50\n",
      "818/818 [==============================] - 161s 197ms/step - loss: 0.3566 - accuracy: 0.8799 - val_loss: 0.4235 - val_accuracy: 0.8479\n",
      "Epoch 11/50\n",
      "818/818 [==============================] - 161s 197ms/step - loss: 0.3343 - accuracy: 0.8900 - val_loss: 0.4082 - val_accuracy: 0.8488\n",
      "Epoch 12/50\n",
      "818/818 [==============================] - 162s 198ms/step - loss: 0.3135 - accuracy: 0.8973 - val_loss: 0.3953 - val_accuracy: 0.8540\n",
      "Epoch 13/50\n",
      "818/818 [==============================] - 161s 197ms/step - loss: 0.2939 - accuracy: 0.9047 - val_loss: 0.3818 - val_accuracy: 0.8583\n",
      "Epoch 14/50\n",
      "818/818 [==============================] - 163s 199ms/step - loss: 0.2762 - accuracy: 0.9123 - val_loss: 0.3695 - val_accuracy: 0.8635\n",
      "Epoch 15/50\n",
      "818/818 [==============================] - 161s 197ms/step - loss: 0.2600 - accuracy: 0.9182 - val_loss: 0.3630 - val_accuracy: 0.8638\n",
      "Epoch 16/50\n",
      "818/818 [==============================] - 161s 197ms/step - loss: 0.2438 - accuracy: 0.9242 - val_loss: 0.3487 - val_accuracy: 0.8675\n",
      "Epoch 17/50\n",
      "818/818 [==============================] - 161s 197ms/step - loss: 0.2302 - accuracy: 0.9306 - val_loss: 0.3373 - val_accuracy: 0.8742\n",
      "Epoch 18/50\n",
      "818/818 [==============================] - 161s 197ms/step - loss: 0.2155 - accuracy: 0.9354 - val_loss: 0.3345 - val_accuracy: 0.8690\n",
      "Epoch 19/50\n",
      "818/818 [==============================] - 162s 197ms/step - loss: 0.2027 - accuracy: 0.9409 - val_loss: 0.3278 - val_accuracy: 0.8804\n",
      "Epoch 20/50\n",
      "818/818 [==============================] - 161s 197ms/step - loss: 0.1910 - accuracy: 0.9465 - val_loss: 0.3269 - val_accuracy: 0.8773\n",
      "Epoch 21/50\n",
      "818/818 [==============================] - 161s 197ms/step - loss: 0.1800 - accuracy: 0.9492 - val_loss: 0.3094 - val_accuracy: 0.8800\n",
      "Epoch 22/50\n",
      "818/818 [==============================] - 161s 197ms/step - loss: 0.1692 - accuracy: 0.9526 - val_loss: 0.2991 - val_accuracy: 0.8868\n",
      "Epoch 23/50\n",
      "818/818 [==============================] - 161s 197ms/step - loss: 0.1586 - accuracy: 0.9580 - val_loss: 0.3105 - val_accuracy: 0.8810\n",
      "Epoch 24/50\n",
      "818/818 [==============================] - 161s 197ms/step - loss: 0.1486 - accuracy: 0.9617 - val_loss: 0.2919 - val_accuracy: 0.8892\n",
      "Epoch 25/50\n",
      "818/818 [==============================] - 161s 197ms/step - loss: 0.1397 - accuracy: 0.9647 - val_loss: 0.2789 - val_accuracy: 0.8978\n",
      "Epoch 26/50\n",
      "818/818 [==============================] - 161s 197ms/step - loss: 0.1310 - accuracy: 0.9680 - val_loss: 0.2777 - val_accuracy: 0.8996\n",
      "Epoch 27/50\n",
      "818/818 [==============================] - 161s 197ms/step - loss: 0.1227 - accuracy: 0.9714 - val_loss: 0.2894 - val_accuracy: 0.8929\n",
      "Epoch 28/50\n",
      "818/818 [==============================] - 161s 197ms/step - loss: 0.1148 - accuracy: 0.9748 - val_loss: 0.2689 - val_accuracy: 0.9002\n",
      "Epoch 29/50\n",
      "818/818 [==============================] - 161s 197ms/step - loss: 0.1077 - accuracy: 0.9771 - val_loss: 0.2631 - val_accuracy: 0.9009\n",
      "Epoch 30/50\n",
      "818/818 [==============================] - 161s 197ms/step - loss: 0.1004 - accuracy: 0.9781 - val_loss: 0.2665 - val_accuracy: 0.8978\n",
      "Epoch 31/50\n",
      "818/818 [==============================] - 161s 197ms/step - loss: 0.0941 - accuracy: 0.9813 - val_loss: 0.2644 - val_accuracy: 0.9002\n",
      "Epoch 32/50\n",
      "818/818 [==============================] - 161s 197ms/step - loss: 0.0879 - accuracy: 0.9829 - val_loss: 0.2574 - val_accuracy: 0.9061\n",
      "Epoch 33/50\n",
      "818/818 [==============================] - 161s 197ms/step - loss: 0.0817 - accuracy: 0.9852 - val_loss: 0.2557 - val_accuracy: 0.9079\n",
      "Epoch 34/50\n",
      "818/818 [==============================] - 161s 197ms/step - loss: 0.0770 - accuracy: 0.9864 - val_loss: 0.2500 - val_accuracy: 0.9073\n",
      "Epoch 35/50\n",
      "818/818 [==============================] - 161s 197ms/step - loss: 0.0709 - accuracy: 0.9888 - val_loss: 0.2529 - val_accuracy: 0.9064\n",
      "Epoch 36/50\n",
      "818/818 [==============================] - 161s 197ms/step - loss: 0.0662 - accuracy: 0.9900 - val_loss: 0.2480 - val_accuracy: 0.9116\n",
      "Epoch 37/50\n",
      "818/818 [==============================] - 161s 197ms/step - loss: 0.0623 - accuracy: 0.9909 - val_loss: 0.2455 - val_accuracy: 0.9100\n",
      "Epoch 38/50\n",
      "818/818 [==============================] - 161s 197ms/step - loss: 0.0575 - accuracy: 0.9922 - val_loss: 0.2437 - val_accuracy: 0.9152\n",
      "Epoch 39/50\n",
      "818/818 [==============================] - 161s 197ms/step - loss: 0.0537 - accuracy: 0.9927 - val_loss: 0.2524 - val_accuracy: 0.9128\n",
      "Epoch 40/50\n",
      "818/818 [==============================] - 161s 197ms/step - loss: 0.0496 - accuracy: 0.9941 - val_loss: 0.2501 - val_accuracy: 0.9128\n",
      "Epoch 41/50\n",
      "818/818 [==============================] - 161s 197ms/step - loss: 0.0465 - accuracy: 0.9948 - val_loss: 0.2476 - val_accuracy: 0.9165\n",
      "Epoch 42/50\n",
      "818/818 [==============================] - 161s 197ms/step - loss: 0.0426 - accuracy: 0.9954 - val_loss: 0.2307 - val_accuracy: 0.9204\n",
      "Epoch 43/50\n",
      "818/818 [==============================] - 161s 197ms/step - loss: 0.0397 - accuracy: 0.9961 - val_loss: 0.2351 - val_accuracy: 0.9146\n",
      "Epoch 44/50\n",
      "818/818 [==============================] - 161s 197ms/step - loss: 0.0367 - accuracy: 0.9970 - val_loss: 0.2391 - val_accuracy: 0.9186\n",
      "Epoch 45/50\n",
      "818/818 [==============================] - 161s 197ms/step - loss: 0.0340 - accuracy: 0.9971 - val_loss: 0.2305 - val_accuracy: 0.9214\n",
      "Epoch 46/50\n",
      "818/818 [==============================] - 161s 197ms/step - loss: 0.0310 - accuracy: 0.9979 - val_loss: 0.2314 - val_accuracy: 0.9189\n",
      "Epoch 47/50\n",
      "818/818 [==============================] - 161s 197ms/step - loss: 0.0287 - accuracy: 0.9985 - val_loss: 0.2379 - val_accuracy: 0.9201\n",
      "Epoch 48/50\n",
      "818/818 [==============================] - 161s 197ms/step - loss: 0.0264 - accuracy: 0.9986 - val_loss: 0.2332 - val_accuracy: 0.9201\n",
      "Epoch 49/50\n",
      "818/818 [==============================] - 161s 197ms/step - loss: 0.0244 - accuracy: 0.9986 - val_loss: 0.2287 - val_accuracy: 0.9214\n",
      "Epoch 50/50\n",
      "818/818 [==============================] - 161s 197ms/step - loss: 0.0225 - accuracy: 0.9991 - val_loss: 0.2373 - val_accuracy: 0.9201\n"
     ]
    }
   ],
   "source": [
    "# mobilenet\n",
    "print(\"Training MobileNet Phase 2...\")\n",
    "\n",
    "base_model = load_model(\"mobilenet_base_no_top.h5\")\n",
    "\n",
    "x = GlobalAveragePooling2D()(base_model.output)\n",
    "x = Dense(128, activation='relu')(x)\n",
    "num_classes = len(train_gen.class_indices)  \n",
    "preds = Dense(num_classes, activation='softmax')(x)\n",
    "\n",
    "phase2_model = Model(inputs=base_model.input, outputs=preds)\n",
    "\n",
    "for layer in base_model.layers:\n",
    "    layer.trainable = False\n",
    "\n",
    "phase2_model.compile(optimizer=Adam(1e-4), loss='categorical_crossentropy', metrics=['accuracy'])\n",
    "\n",
    "early_stop = EarlyStopping(patience=20, restore_best_weights=True, verbose=1)\n",
    "\n",
    "history_mobilenet_phase2 = phase2_model.fit(\n",
    "    train_gen,\n",
    "    validation_data=val_gen,\n",
    "    epochs=50,\n",
    "    callbacks=[early_stop]\n",
    ")\n",
    "\n",
    "phase2_model.save(\"mobilenet_phase2_multiclass.h5\")\n",
    "K.clear_session()"
   ]
  },
  {
   "cell_type": "code",
   "execution_count": null,
   "id": "9b198150",
   "metadata": {},
   "outputs": [],
   "source": [
    "# mobilenetV2\n",
    "print(\"Training MobileNetV2 Phase 2...\")\n",
    "\n",
    "base_model_v2 = load_model(\"mobilenetv2_base_no_top1.h5\")\n",
    "\n",
    "x = GlobalAveragePooling2D()(base_model_v2.output)\n",
    "x = Dense(128, activation='relu')(x)\n",
    "num_classes = len(train_gen.class_indices)\n",
    "preds = Dense(num_classes, activation='softmax')(x)\n",
    "\n",
    "phase2_model_v2 = Model(inputs=base_model_v2.input, outputs=preds)\n",
    "\n",
    "for layer in base_model_v2.layers:\n",
    "    layer.trainable = False\n",
    "\n",
    "phase2_model_v2.compile(optimizer=Adam(1e-4), loss='categorical_crossentropy', metrics=['accuracy'])\n",
    "\n",
    "early_stop = EarlyStopping(patience=20, restore_best_weights=True, verbose=1)\n",
    "\n",
    "history_mobilenetv2_phase2 = phase2_model_v2.fit(\n",
    "    train_gen,\n",
    "    validation_data=val_gen,\n",
    "    epochs=50,\n",
    "    callbacks=[early_stop]\n",
    ")\n",
    "\n",
    "phase2_model_v2.save(\"mobilenetv2_phase2_multiclass.h5\")\n",
    "K.clear_session()\n"
   ]
  },
  {
   "cell_type": "markdown",
   "id": "82157cc8",
   "metadata": {},
   "source": [
    "### Phase 2 Compare"
   ]
  },
  {
   "cell_type": "code",
   "execution_count": 13,
   "id": "216ccbe0",
   "metadata": {},
   "outputs": [
    {
     "data": {
      "image/png": "[encoded data removed]",
      "text/plain": [
       "<Figure size 640x480 with 1 Axes>"
      ]
     },
     "metadata": {},
     "output_type": "display_data"
    }
   ],
   "source": [
    "# accuracy\n",
    "plt.plot(history_mobilenet_phase2.history['accuracy'], label='MobileNet - Train', linestyle='-', color='red')\n",
    "plt.plot(history_mobilenet_phase2.history['val_accuracy'], label='MobileNet - Val', linestyle='--', color='red')\n",
    "plt.title('Model Accuracy')\n",
    "plt.xlabel('Epoch')\n",
    "plt.ylabel('Accuracy')\n",
    "plt.legend()\n",
    "plt.grid(True)\n",
    "plt.show()"
   ]
  },
  {
   "cell_type": "code",
   "execution_count": 14,
   "id": "7618d975",
   "metadata": {},
   "outputs": [
    {
     "data": {
      "image/png": "[encoded data removed]",
      "text/plain": [
       "<Figure size 640x480 with 1 Axes>"
      ]
     },
     "metadata": {},
     "output_type": "display_data"
    }
   ],
   "source": [
    "# loss\n",
    "plt.plot(history_mobilenet_phase2.history['loss'], label='MobileNet - Train', linestyle='-', color='red')\n",
    "plt.plot(history_mobilenet_phase2.history['val_loss'], label='MobileNet - Val', linestyle='--', color='red')\n",
    "plt.title('Model Loss')\n",
    "plt.xlabel('Epoch')\n",
    "plt.ylabel('Loss')\n",
    "plt.legend()\n",
    "plt.grid(True)\n",
    "plt.show()"
   ]
  },
  {
   "cell_type": "code",
   "execution_count": 15,
   "id": "0576f73e",
   "metadata": {},
   "outputs": [],
   "source": [
    "# load model to compare\n",
    "mobilenet = load_model(\"mobilenet_phase2_multiclass.h5\")\n",
    "\n",
    "test_loss_mn, test_acc_mn = mobilenet.evaluate(test_gen, verbose=0)"
   ]
  },
  {
   "cell_type": "code",
   "execution_count": 16,
   "id": "a61061fc",
   "metadata": {},
   "outputs": [
    {
     "data": {
      "text/plain": [
       "Text(0, 0.5, 'Accuracy')"
      ]
     },
     "execution_count": 16,
     "metadata": {},
     "output_type": "execute_result"
    },
    {
     "data": {
      "image/png": "[encoded data removed]",
      "text/plain": [
       "<Figure size 640x480 with 1 Axes>"
      ]
     },
     "metadata": {},
     "output_type": "display_data"
    }
   ],
   "source": [
    "# test accuracy\n",
    "plt.bar(\"MobileNet\", test_acc_mn, color=\"red\")\n",
    "plt.title(\"Test Accuracy\")\n",
    "plt.ylim(0, 1)\n",
    "plt.ylabel(\"Accuracy\")"
   ]
  },
  {
   "cell_type": "code",
   "execution_count": 20,
   "id": "675f7b61",
   "metadata": {},
   "outputs": [
    {
     "data": {
      "text/plain": [
       "Text(0, 0.5, 'loss')"
      ]
     },
     "execution_count": 20,
     "metadata": {},
     "output_type": "execute_result"
    },
    {
     "data": {
      "image/png": "[encoded data removed]",
      "text/plain": [
       "<Figure size 640x480 with 1 Axes>"
      ]
     },
     "metadata": {},
     "output_type": "display_data"
    }
   ],
   "source": [
    "# loss accuracy\n",
    "plt.bar(\"MobileNet\", test_loss_mn, color=\"red\")\n",
    "plt.title(\"Test loss\")\n",
    "plt.ylim(0, 1)\n",
    "plt.ylabel(\"loss\")"
   ]
  },
  {
   "cell_type": "code",
   "execution_count": 19,
   "id": "d9afd7ab",
   "metadata": {},
   "outputs": [
    {
     "name": "stdout",
     "output_type": "stream",
     "text": [
      "103/103 [==============================] - 18s 175ms/step\n"
     ]
    },
    {
     "data": {
      "image/png": "[encoded data removed]",
      "text/plain": [
       "<Figure size 800x600 with 2 Axes>"
      ]
     },
     "metadata": {},
     "output_type": "display_data"
    },
    {
     "name": "stdout",
     "output_type": "stream",
     "text": [
      "Classification Report:\n",
      "\n",
      "              precision    recall  f1-score   support\n",
      "\n",
      "       akiec       0.92      0.97      0.95       654\n",
      "         bcc       0.92      0.95      0.93       617\n",
      "         bkl       0.92      0.85      0.89       659\n",
      "         mel       0.92      0.89      0.90       668\n",
      "          nv       0.94      0.97      0.95       671\n",
      "\n",
      "    accuracy                           0.93      3269\n",
      "   macro avg       0.93      0.93      0.93      3269\n",
      "weighted avg       0.93      0.93      0.93      3269\n",
      "\n"
     ]
    }
   ],
   "source": [
    "y_pred = mobilenet.predict(test_gen)\n",
    "y_pred_labels = np.argmax(y_pred, axis=1)\n",
    "y_true_labels = test_gen.classes\n",
    "class_labels = list(test_gen.class_indices.keys())\n",
    "\n",
    "cm = confusion_matrix(y_true_labels, y_pred_labels)\n",
    "plt.figure(figsize=(8, 6))\n",
    "sns.heatmap(cm, annot=True, fmt='g', cmap='Blues', xticklabels=class_labels, yticklabels=class_labels)\n",
    "plt.xlabel('Predicted Labels')\n",
    "plt.ylabel('True Labels')\n",
    "plt.title('Confusion Matrix - MobileNet Multiclass')\n",
    "plt.show()\n",
    "\n",
    "print(\"Classification Report:\\n\")\n",
    "print(classification_report(y_true_labels, y_pred_labels, target_names=class_labels))"
   ]
  },
  {
   "cell_type": "code",
   "execution_count": null,
   "id": "49f6c46e",
   "metadata": {},
   "outputs": [],
   "source": []
  }
 ],
 "metadata": {
  "kernelspec": {
   "display_name": "fyp-gpu",
   "language": "python",
   "name": "python3"
  },
  "language_info": {
   "codemirror_mode": {
    "name": "ipython",
    "version": 3
   },
   "file_extension": ".py",
   "mimetype": "text/x-python",
   "name": "python",
   "nbconvert_exporter": "python",
   "pygments_lexer": "ipython3",
   "version": "3.9.21"
  }
 },
 "nbformat": 4,
 "nbformat_minor": 5
}
