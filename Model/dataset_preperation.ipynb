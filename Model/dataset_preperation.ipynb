{
 "cells": [
  {
   "cell_type": "markdown",
   "id": "893ca563",
   "metadata": {},
   "source": [
    "# Skin Disease Detection using Mobile Application\n",
    "## Final Year Project 2\n",
    "Ahmad Daniel Ikhwan Bin Rosli <br>\n",
    "1201103071"
   ]
  },
  {
   "cell_type": "code",
   "execution_count": 5,
   "id": "4e045657",
   "metadata": {},
   "outputs": [],
   "source": [
    "import os\n",
    "import shutil\n",
    "import random\n",
    "from pathlib import Path\n",
    "import numpy as np\n",
    "import tensorflow as tf\n",
    "from PIL import Image\n",
    "from sklearn.model_selection import train_test_split"
   ]
  },
  {
   "cell_type": "code",
   "execution_count": 1,
   "id": "6bf1f0bd",
   "metadata": {},
   "outputs": [],
   "source": [
    "img_size = (224, 224)\n",
    "split_ratio = [0.8, 0.1, 0.1]  \n",
    "random_seed = 42"
   ]
  },
  {
   "cell_type": "code",
   "execution_count": 2,
   "id": "5bd9ed03",
   "metadata": {},
   "outputs": [
    {
     "name": "stdout",
     "output_type": "stream",
     "text": [
      "Dataset URL: https://www.kaggle.com/datasets/shubhamgoel27/dermnet\n",
      "License(s): Attribution-NonCommercial-NoDerivatives 4.0 International (CC BY-NC-ND 4.0)\n"
     ]
    }
   ],
   "source": [
    "!kaggle datasets download -d shubhamgoel27/dermnet --unzip -p datasets/dermnet_raw"
   ]
  },
  {
   "cell_type": "code",
   "execution_count": null,
   "id": "9024c7ed",
   "metadata": {},
   "outputs": [],
   "source": [
    "target_classes = {\n",
    "    \"Acne and Rosacea Photos\"\n",
    "    \"Eczema Photos\",\n",
    "    \"Psoriasis pictures Lichen Planus and related diseases\",\n",
    "    \"Tinea Ringworm Candidiasis and other Fungal Infections\",\n",
    "    \"Melanoma Skin Cancer Nevi and Moles\"\n",
    "}\n",
    "\n",
    "raw_path = Path(\"datasets/dermnet_raw\")     \n",
    "prep_path = Path(\"datasets/dermnet_prep\")    \n",
    "\n",
    "for split in ['train', 'test']:\n",
    "    folder = raw_path / split\n",
    "    for sub in folder.iterdir():\n",
    "        if sub.is_dir() and sub.name not in target_classes:\n",
    "            print(f\"Deleting {sub}\")\n",
    "            shutil.rmtree(sub)"
   ]
  },
  {
   "cell_type": "code",
   "execution_count": null,
   "id": "89330663",
   "metadata": {},
   "outputs": [],
   "source": []
  }
 ],
 "metadata": {
  "kernelspec": {
   "display_name": "FYP",
   "language": "python",
   "name": "python3"
  },
  "language_info": {
   "codemirror_mode": {
    "name": "ipython",
    "version": 3
   },
   "file_extension": ".py",
   "mimetype": "text/x-python",
   "name": "python",
   "nbconvert_exporter": "python",
   "pygments_lexer": "ipython3",
   "version": "3.10.16"
  }
 },
 "nbformat": 4,
 "nbformat_minor": 5
}
